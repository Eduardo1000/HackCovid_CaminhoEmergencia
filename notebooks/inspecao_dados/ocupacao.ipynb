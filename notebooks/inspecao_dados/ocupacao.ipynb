{
 "cells": [
  {
   "cell_type": "code",
   "execution_count": 1,
   "metadata": {},
   "outputs": [],
   "source": [
    "import numpy as np\n",
    "import pandas as pd\n",
    "import matplotlib.pyplot as plt\n",
    "import constants as ct"
   ]
  },
  {
   "cell_type": "markdown",
   "metadata": {},
   "source": [
    "Unidades e casos"
   ]
  },
  {
   "cell_type": "code",
   "execution_count": 2,
   "metadata": {},
   "outputs": [],
   "source": [
    "df_estab = pd.read_csv(ct.PATH_UNIDADES)\n",
    "df_gripe = pd.read_csv(ct.PATH_GRIPE_MIN)"
   ]
  },
  {
   "cell_type": "markdown",
   "metadata": {},
   "source": [
    "União"
   ]
  },
  {
   "cell_type": "code",
   "execution_count": 3,
   "metadata": {},
   "outputs": [],
   "source": [
    "COL_CNES_gripe = 'CNES da unidade de saúde de internação'\n",
    "COL_CNES_estab = 'CO_CNES'\n",
    "\n",
    "qtd_cols = ['QT_EXIST','QT_SUS']\n",
    "\n",
    "df_estab_qtd = df_estab.groupby(COL_CNES_estab)[qtd_cols].sum()\n",
    "\n",
    "df_gripe_estab = pd.merge(\n",
    "    df_gripe, \n",
    "    df_estab_qtd, \n",
    "    how='inner', \n",
    "    left_on=COL_CNES_gripe, right_on=COL_CNES_estab)"
   ]
  },
  {
   "cell_type": "markdown",
   "metadata": {},
   "source": [
    "## Unidades"
   ]
  },
  {
   "cell_type": "markdown",
   "metadata": {},
   "source": [
    "Todas as unidades hospitalares"
   ]
  },
  {
   "cell_type": "code",
   "execution_count": 4,
   "metadata": {},
   "outputs": [],
   "source": [
    "unidades = df_gripe_estab[COL_CNES_gripe].unique()"
   ]
  },
  {
   "cell_type": "markdown",
   "metadata": {},
   "source": [
    "## Data to datetime"
   ]
  },
  {
   "cell_type": "markdown",
   "metadata": {},
   "source": [
    "Convertemos todas as colunas com datas em datetimes"
   ]
  },
  {
   "cell_type": "code",
   "execution_count": 5,
   "metadata": {},
   "outputs": [],
   "source": [
    "data_cols = [x for x in df_gripe_estab.columns if 'Data' in x]\n",
    "\n",
    "for data in data_cols:\n",
    "    df_gripe_estab[data] = pd.to_datetime(df_gripe_estab[data], format=\"%d/%m/%Y\")"
   ]
  },
  {
   "cell_type": "markdown",
   "metadata": {},
   "source": [
    "## Tempo internado"
   ]
  },
  {
   "cell_type": "markdown",
   "metadata": {},
   "source": [
    "Computamos tempo internado"
   ]
  },
  {
   "cell_type": "code",
   "execution_count": 6,
   "metadata": {},
   "outputs": [],
   "source": [
    "COL_TEMPO_INTERNADO = \"Tempo internado\"\n",
    "df_gripe_estab[COL_TEMPO_INTERNADO] = df_gripe_estab['Data da alta ou óbito']-df_gripe_estab['Data de internação']"
   ]
  },
  {
   "cell_type": "markdown",
   "metadata": {},
   "source": [
    "Preenchemos os valores desconhecidos com a mediana"
   ]
  },
  {
   "cell_type": "code",
   "execution_count": 7,
   "metadata": {},
   "outputs": [],
   "source": [
    "tempo_proxy = df_gripe_estab[COL_TEMPO_INTERNADO].quantile(0.5)\n",
    "df_gripe_estab[COL_TEMPO_INTERNADO] = df_gripe_estab[COL_TEMPO_INTERNADO].fillna(tempo_proxy)"
   ]
  },
  {
   "cell_type": "markdown",
   "metadata": {},
   "source": [
    "## Data de Saída"
   ]
  },
  {
   "cell_type": "code",
   "execution_count": 8,
   "metadata": {},
   "outputs": [],
   "source": [
    "COL_DATA_ENTRADA = 'Data de internação'\n",
    "COL_DATA_SAIDA = 'Data de saída'\n",
    "\n",
    "df_gripe_estab[COL_DATA_SAIDA] = df_gripe_estab[COL_DATA_ENTRADA] + df_gripe_estab[COL_TEMPO_INTERNADO]"
   ]
  },
  {
   "cell_type": "markdown",
   "metadata": {},
   "source": [
    "## Período"
   ]
  },
  {
   "cell_type": "markdown",
   "metadata": {},
   "source": [
    "Computamos o período de dias dos dados"
   ]
  },
  {
   "cell_type": "code",
   "execution_count": 9,
   "metadata": {},
   "outputs": [
    {
     "name": "stdout",
     "output_type": "stream",
     "text": [
      "2019-01-03 00:00:00   2020-05-20 00:00:00\n"
     ]
    }
   ],
   "source": [
    "data_min = df_gripe_estab[COL_DATA_ENTRADA].min()\n",
    "data_max = df_gripe_estab[COL_DATA_SAIDA].max()\n",
    "print(data_min, ' ', data_max)\n",
    "\n",
    "periodo = pd.date_range(data_min, data_max)"
   ]
  },
  {
   "cell_type": "markdown",
   "metadata": {},
   "source": [
    "## Número de internações"
   ]
  },
  {
   "cell_type": "markdown",
   "metadata": {},
   "source": [
    "Computamos o número de internações por unidade em cada data"
   ]
  },
  {
   "cell_type": "code",
   "execution_count": 10,
   "metadata": {},
   "outputs": [],
   "source": [
    "COL_ENTRADAS = 'entradas'\n",
    "df_entrada_grp = df_gripe_estab.groupby([COL_DATA_ENTRADA, COL_CNES_gripe]).apply(len)\n",
    "df_entrada_grp = df_entrada_grp.reset_index()\n",
    "df_entrada_grp = df_entrada_grp.rename({0:COL_ENTRADAS},axis=1)"
   ]
  },
  {
   "cell_type": "markdown",
   "metadata": {},
   "source": [
    "## Número de saídas"
   ]
  },
  {
   "cell_type": "code",
   "execution_count": 11,
   "metadata": {},
   "outputs": [],
   "source": [
    "COL_SAIDAS = 'saídas'\n",
    "df_saida_grp = df_gripe_estab.groupby(\n",
    "                    [COL_DATA_SAIDA, COL_CNES_gripe]).apply(len).reset_index()\n",
    "df_saida_grp = df_saida_grp.rename({0:COL_SAIDAS},axis=1)"
   ]
  },
  {
   "cell_type": "markdown",
   "metadata": {},
   "source": [
    "## Todas as Unidades ao longo de todos os dias"
   ]
  },
  {
   "cell_type": "code",
   "execution_count": 12,
   "metadata": {},
   "outputs": [],
   "source": [
    "import itertools"
   ]
  },
  {
   "cell_type": "markdown",
   "metadata": {},
   "source": [
    "Dataset denso com informação de todas as unidades em todas as datas"
   ]
  },
  {
   "cell_type": "code",
   "execution_count": 13,
   "metadata": {},
   "outputs": [],
   "source": [
    "COL_DATA = 'Data'\n",
    "COL_UNIDADE = 'Unidade'\n",
    "df_all_entrada = pd.DataFrame(list(\n",
    "    itertools.product(periodo, unidades)), columns=[COL_DATA,COL_UNIDADE])"
   ]
  },
  {
   "cell_type": "markdown",
   "metadata": {},
   "source": [
    "Tamanho"
   ]
  },
  {
   "cell_type": "code",
   "execution_count": 14,
   "metadata": {
    "scrolled": true
   },
   "outputs": [
    {
     "data": {
      "text/plain": [
       "(60480, 2)"
      ]
     },
     "execution_count": 14,
     "metadata": {},
     "output_type": "execute_result"
    }
   ],
   "source": [
    "df_all_entrada.shape"
   ]
  },
  {
   "cell_type": "markdown",
   "metadata": {},
   "source": [
    "## Data de Entrada"
   ]
  },
  {
   "cell_type": "markdown",
   "metadata": {},
   "source": [
    "Populamos o dataset completo com informação das entradas"
   ]
  },
  {
   "cell_type": "code",
   "execution_count": 15,
   "metadata": {},
   "outputs": [],
   "source": [
    "df_entrada_full = pd.merge(\n",
    "    df_all_entrada, df_entrada_grp, \n",
    "    how='left',left_on=[COL_DATA,COL_UNIDADE],right_on=[COL_DATA_ENTRADA,COL_CNES_gripe])"
   ]
  },
  {
   "cell_type": "markdown",
   "metadata": {},
   "source": [
    "Populamos os valores vazios com 0 entradas. Ou seja, assumimos que o dataset é completo"
   ]
  },
  {
   "cell_type": "code",
   "execution_count": 16,
   "metadata": {},
   "outputs": [],
   "source": [
    "df_entrada_full[COL_ENTRADAS] = df_entrada_full[COL_ENTRADAS].fillna(0)"
   ]
  },
  {
   "cell_type": "markdown",
   "metadata": {},
   "source": [
    "Colunas usadas"
   ]
  },
  {
   "cell_type": "code",
   "execution_count": 17,
   "metadata": {},
   "outputs": [],
   "source": [
    "df_entrada_full = df_entrada_full[[COL_DATA, COL_UNIDADE, COL_ENTRADAS]].copy()"
   ]
  },
  {
   "cell_type": "markdown",
   "metadata": {},
   "source": [
    "## Data de saída"
   ]
  },
  {
   "cell_type": "markdown",
   "metadata": {},
   "source": [
    "Populamos o dataset completo com informação das saídas"
   ]
  },
  {
   "cell_type": "code",
   "execution_count": 18,
   "metadata": {},
   "outputs": [],
   "source": [
    "df_full = pd.merge(\n",
    "    df_entrada_full, df_saida_grp, \n",
    "    how='left',left_on=[COL_DATA,COL_UNIDADE],right_on=[COL_DATA_SAIDA,COL_CNES_gripe])"
   ]
  },
  {
   "cell_type": "markdown",
   "metadata": {},
   "source": [
    "Populamos os valores vazios com 0 saídas. Ou seja, assumimos que o dataset é completo"
   ]
  },
  {
   "cell_type": "code",
   "execution_count": 19,
   "metadata": {},
   "outputs": [],
   "source": [
    "df_full[COL_SAIDAS] = df_full[COL_SAIDAS].fillna(0)"
   ]
  },
  {
   "cell_type": "markdown",
   "metadata": {},
   "source": [
    "Colunas usadas"
   ]
  },
  {
   "cell_type": "code",
   "execution_count": 20,
   "metadata": {},
   "outputs": [],
   "source": [
    "df_full = df_full[[COL_DATA, COL_UNIDADE, COL_ENTRADAS, COL_SAIDAS]].copy()"
   ]
  },
  {
   "cell_type": "markdown",
   "metadata": {},
   "source": [
    "## Entradas e Saídas acumuladas"
   ]
  },
  {
   "cell_type": "code",
   "execution_count": 21,
   "metadata": {},
   "outputs": [],
   "source": [
    "COL_ENTRADAS_SUM = 'entradas_sum'\n",
    "COL_SAIDAS_SUM = 'saidas_sum'\n",
    "\n",
    "df_full[COL_ENTRADAS_SUM] = df_full.groupby(COL_UNIDADE)[COL_ENTRADAS].cumsum()\n",
    "df_full[COL_SAIDAS_SUM] = df_full.groupby(COL_UNIDADE)[COL_SAIDAS].cumsum()"
   ]
  },
  {
   "cell_type": "markdown",
   "metadata": {},
   "source": [
    "## Taxa de Ocupação"
   ]
  },
  {
   "cell_type": "code",
   "execution_count": 22,
   "metadata": {},
   "outputs": [],
   "source": [
    "COL_OCUPACAO = 'ocupacao'\n",
    "\n",
    "df_full[COL_OCUPACAO] = df_full[COL_ENTRADAS_SUM] - df_full[COL_SAIDAS_SUM]"
   ]
  },
  {
   "cell_type": "markdown",
   "metadata": {},
   "source": [
    "## Leitos Disponíveis"
   ]
  },
  {
   "cell_type": "markdown",
   "metadata": {},
   "source": [
    "Colunas relevantes de leitos"
   ]
  },
  {
   "cell_type": "code",
   "execution_count": 23,
   "metadata": {},
   "outputs": [],
   "source": [
    "COL_BAIRRO = 'NO_BAIRRO'\n",
    "COL_LAT = 'NU_LATITUDE'\n",
    "COL_LON = 'NU_LONGITUDE'\n",
    "COL_EXIST = 'QT_EXIST'\n",
    "COL_SUS = 'QT_SUS'\n",
    "COL_TIPO_ESTAB  = 'DS_TIPO_ESTABELECIMENTO'"
   ]
  },
  {
   "cell_type": "markdown",
   "metadata": {},
   "source": [
    "Dataset de leitos"
   ]
  },
  {
   "cell_type": "code",
   "execution_count": 24,
   "metadata": {},
   "outputs": [],
   "source": [
    "df_leitos = df_estab[\n",
    "    [COL_CNES_estab,\n",
    "     COL_EXIST, COL_SUS, \n",
    "     COL_LAT, COL_LON,\n",
    "     COL_BAIRRO,\n",
    "     COL_TIPO_ESTAB]].drop_duplicates()\n",
    "\n",
    "df_leitos = df_leitos.reset_index(drop=True)\n",
    "df_leitos = df_leitos.set_index(COL_CNES_estab)\n",
    "\n",
    "df_leitos[COL_EXIST] = df_leitos.groupby(COL_CNES_estab)[COL_EXIST].sum()\n",
    "df_leitos[COL_SUS] = df_leitos.groupby(COL_CNES_estab)[COL_SUS].sum()\n",
    "\n",
    "df_leitos = df_leitos.drop_duplicates().reset_index()\n",
    "df_leitos = df_leitos[~df_leitos[COL_EXIST].isna()]"
   ]
  },
  {
   "cell_type": "markdown",
   "metadata": {},
   "source": [
    "Filtramos apenas as informações das unidades que tem número de leitos"
   ]
  },
  {
   "cell_type": "code",
   "execution_count": 25,
   "metadata": {},
   "outputs": [],
   "source": [
    "df_full_leitos = df_full[df_full[COL_UNIDADE].isin(df_leitos[COL_CNES_estab].unique())]"
   ]
  },
  {
   "cell_type": "markdown",
   "metadata": {},
   "source": [
    "Adicionamos as informações de quantidade de leitos no dataset"
   ]
  },
  {
   "cell_type": "code",
   "execution_count": 26,
   "metadata": {},
   "outputs": [],
   "source": [
    "df_occ = pd.merge(df_full_leitos, df_leitos, how='left',left_on=COL_UNIDADE, right_on=COL_CNES_estab)"
   ]
  },
  {
   "cell_type": "markdown",
   "metadata": {},
   "source": [
    "Colunas usadas"
   ]
  },
  {
   "cell_type": "code",
   "execution_count": 27,
   "metadata": {},
   "outputs": [],
   "source": [
    "df_occ_min = df_occ[[\n",
    "    COL_DATA,\n",
    "    COL_UNIDADE,\n",
    "    COL_ENTRADAS,\n",
    "    COL_SAIDAS,\n",
    "    COL_OCUPACAO,\n",
    "    COL_EXIST,\n",
    "    COL_SUS,\n",
    "    COL_BAIRRO,\n",
    "    COL_TIPO_ESTAB,\n",
    "    COL_LAT,\n",
    "    COL_LON]].copy()"
   ]
  },
  {
   "cell_type": "markdown",
   "metadata": {},
   "source": [
    "Leitos disponíveis"
   ]
  },
  {
   "cell_type": "code",
   "execution_count": 28,
   "metadata": {},
   "outputs": [],
   "source": [
    "COL_DISPONIVEIS = 'disponiveis'\n",
    "df_occ_min[COL_DISPONIVEIS] = df_occ_min[COL_EXIST] - df_occ_min[COL_OCUPACAO]"
   ]
  },
  {
   "cell_type": "markdown",
   "metadata": {},
   "source": [
    "Salvamos o dataset"
   ]
  },
  {
   "cell_type": "code",
   "execution_count": 29,
   "metadata": {},
   "outputs": [],
   "source": [
    "df_occ_min.to_csv(ct.PATH_OCUPACAO, index=False)"
   ]
  },
  {
   "cell_type": "markdown",
   "metadata": {},
   "source": [
    "---"
   ]
  },
  {
   "cell_type": "markdown",
   "metadata": {},
   "source": [
    "## Inspeção"
   ]
  },
  {
   "cell_type": "code",
   "execution_count": 30,
   "metadata": {
    "scrolled": true
   },
   "outputs": [
    {
     "data": {
      "image/png": "[encoded data removed]",
      "text/plain": [
       "<Figure size 432x288 with 1 Axes>"
      ]
     },
     "metadata": {
      "needs_background": "light"
     },
     "output_type": "display_data"
    }
   ],
   "source": [
    "plot_data = df_occ_min[df_occ_min[COL_UNIDADE]==unidades[18]].reset_index()[COL_DISPONIVEIS]\n",
    "_ = plt.plot(plot_data)\n",
    "_ = plt.plot([0,len(plot_data)],[0,0])\n",
    "plt.show()"
   ]
  },
  {
   "cell_type": "code",
   "execution_count": null,
   "metadata": {},
   "outputs": [],
   "source": []
  }
 ],
 "metadata": {
  "kernelspec": {
   "display_name": "Python 3",
   "language": "python",
   "name": "python3"
  },
  "language_info": {
   "codemirror_mode": {
    "name": "ipython",
    "version": 3
   },
   "file_extension": ".py",
   "mimetype": "text/x-python",
   "name": "python",
   "nbconvert_exporter": "python",
   "pygments_lexer": "ipython3",
   "version": "3.6.9"
  }
 },
 "nbformat": 4,
 "nbformat_minor": 4
}
