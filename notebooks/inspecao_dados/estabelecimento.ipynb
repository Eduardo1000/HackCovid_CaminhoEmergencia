{
 "cells": [
  {
   "cell_type": "code",
   "execution_count": 1,
   "metadata": {},
   "outputs": [],
   "source": [
    "import numpy as np\n",
    "import pandas as pd\n",
    "import matplotlib.pyplot as plt\n",
    "import constants as ct"
   ]
  },
  {
   "cell_type": "code",
   "execution_count": 2,
   "metadata": {},
   "outputs": [],
   "source": [
    "df_estab = pd.read_csv(ct.PATH_ESTABELECIMENTO)"
   ]
  },
  {
   "cell_type": "code",
   "execution_count": 3,
   "metadata": {},
   "outputs": [
    {
     "data": {
      "text/plain": [
       "(13387, 15)"
      ]
     },
     "execution_count": 3,
     "metadata": {},
     "output_type": "execute_result"
    }
   ],
   "source": [
    "df_estab.shape"
   ]
  },
  {
   "cell_type": "markdown",
   "metadata": {},
   "source": [
    "Colunas do dataset\n",
    "\n",
    "  * **CO_UNIDADE** : Código da Unidade (str)\n",
    "      - algumas são inteiros (e.g. 3304550032255) \n",
    "      - alguns são str (e.g.RJ0000330455000028000107000825)\n",
    "  * **CO_CNES** : Código de Cadastro Nacional de Estabelecimentos de Saúde\n",
    "  * **NO_FANTASIA** : Nome Fantasia\n",
    "      - Nan (3)\n",
    "  * **NO_LOGRADOURO** : Nome Logradouro\n",
    "  * **NU_ENDERECO** : Número de Endereço\n",
    "      - Nan (2)\n",
    "  * **NO_COMPLEMENTO** : Nome do Complemento\n",
    "      - Nan (1647)\n",
    "  * **NO_BAIRRO** : Nome do Bairro\n",
    "  * **CO_CEP** : Código do CEP\n",
    "  * **NU_LATITUDE** : Número Latitude\n",
    "      - Nan (9410)\n",
    "  * **NU_LONGITUDE** : Número Longitude\n",
    "      - Nan (9392)\n",
    "  * **NU_TELEFONE** : Número Telefone\n",
    "      - Nan (2123)\n",
    "  * **TP_UNIDADE** : Tipo Unidade\n",
    "  * **TP_ESTAB_SEMPRE_ABERTO** : Estabelecimento é 24h (N,S,nan)\n",
    "       - Nan (3903)\n",
    "  * **CO_ATIVIDADE_PRINCIPAL** : Código Atividade Principal\n",
    "       - Nan (3245)\n",
    "  * **DS_TIPO_ESTABELECIMENTO** : Descrição do tipo de estabelecimento\n",
    "       - Nan (3245)"
   ]
  },
  {
   "cell_type": "code",
   "execution_count": 32,
   "metadata": {},
   "outputs": [
    {
     "data": {
      "text/plain": [
       "31"
      ]
     },
     "execution_count": 32,
     "metadata": {},
     "output_type": "execute_result"
    }
   ],
   "source": [
    "len(df_estab['TP_UNIDADE'].unique())"
   ]
  },
  {
   "cell_type": "code",
   "execution_count": null,
   "metadata": {},
   "outputs": [],
   "source": []
  }
 ],
 "metadata": {
  "kernelspec": {
   "display_name": "Python 3",
   "language": "python",
   "name": "python3"
  },
  "language_info": {
   "codemirror_mode": {
    "name": "ipython",
    "version": 3
   },
   "file_extension": ".py",
   "mimetype": "text/x-python",
   "name": "python",
   "nbconvert_exporter": "python",
   "pygments_lexer": "ipython3",
   "version": "3.6.9"
  }
 },
 "nbformat": 4,
 "nbformat_minor": 4
}
