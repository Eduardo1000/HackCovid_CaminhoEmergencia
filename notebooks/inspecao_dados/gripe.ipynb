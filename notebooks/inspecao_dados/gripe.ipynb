{
 "cells": [
  {
   "cell_type": "code",
   "execution_count": 1,
   "metadata": {},
   "outputs": [],
   "source": [
    "import numpy as np\n",
    "import pandas as pd\n",
    "import matplotlib.pyplot as plt\n",
    "import constants as ct"
   ]
  },
  {
   "cell_type": "markdown",
   "metadata": {},
   "source": [
    "# Limpeza dos dados"
   ]
  },
  {
   "cell_type": "markdown",
   "metadata": {},
   "source": [
    "Dataset Original"
   ]
  },
  {
   "cell_type": "code",
   "execution_count": 2,
   "metadata": {},
   "outputs": [],
   "source": [
    "df_gripe = pd.read_csv(ct.PATH_GRIPE, low_memory=False)"
   ]
  },
  {
   "cell_type": "markdown",
   "metadata": {},
   "source": [
    "Dataset tratado"
   ]
  },
  {
   "cell_type": "code",
   "execution_count": 3,
   "metadata": {},
   "outputs": [],
   "source": [
    "df_gripe_clean = df_gripe.copy()"
   ]
  },
  {
   "cell_type": "markdown",
   "metadata": {},
   "source": [
    "Colunas constantes"
   ]
  },
  {
   "cell_type": "code",
   "execution_count": 4,
   "metadata": {},
   "outputs": [
    {
     "data": {
      "text/plain": [
       "['Número da notificação', 'IF - Positivo para outro vírus respiratório']"
      ]
     },
     "execution_count": 4,
     "metadata": {},
     "output_type": "execute_result"
    }
   ],
   "source": [
    "constant_cols = [x  for x in df_gripe.columns if (len(df_gripe[x].unique())==1)]\n",
    "constant_cols"
   ]
  },
  {
   "cell_type": "code",
   "execution_count": 5,
   "metadata": {},
   "outputs": [],
   "source": [
    "for c in constant_cols:\n",
    "    if c in df_gripe_clean.columns:\n",
    "        del df_gripe_clean[c] "
   ]
  },
  {
   "cell_type": "markdown",
   "metadata": {},
   "source": [
    "removed columns"
   ]
  },
  {
   "cell_type": "code",
   "execution_count": 6,
   "metadata": {},
   "outputs": [
    {
     "name": "stdout",
     "output_type": "stream",
     "text": [
      "2\n"
     ]
    }
   ],
   "source": [
    "print(len(constant_cols))"
   ]
  },
  {
   "cell_type": "markdown",
   "metadata": {},
   "source": [
    "## Unnamed columns"
   ]
  },
  {
   "cell_type": "markdown",
   "metadata": {},
   "source": [
    "Removemos as colunas sem nome"
   ]
  },
  {
   "cell_type": "code",
   "execution_count": 7,
   "metadata": {},
   "outputs": [],
   "source": [
    "unnamed_cols = [x for x in df_gripe.columns if 'unnamed' in x.lower()]"
   ]
  },
  {
   "cell_type": "code",
   "execution_count": 8,
   "metadata": {},
   "outputs": [],
   "source": [
    "for col in unnamed_cols:\n",
    "    if col in df_gripe_clean.columns:\n",
    "        del df_gripe_clean[col]"
   ]
  },
  {
   "cell_type": "code",
   "execution_count": 9,
   "metadata": {},
   "outputs": [
    {
     "name": "stdout",
     "output_type": "stream",
     "text": [
      "16\n"
     ]
    }
   ],
   "source": [
    "print(len(unnamed_cols))"
   ]
  },
  {
   "cell_type": "markdown",
   "metadata": {},
   "source": [
    "## 'Data da notificação'"
   ]
  },
  {
   "cell_type": "code",
   "execution_count": 12,
   "metadata": {},
   "outputs": [],
   "source": [
    "from datetime import datetime"
   ]
  },
  {
   "cell_type": "code",
   "execution_count": 13,
   "metadata": {},
   "outputs": [],
   "source": [
    "COL_DATA_NOTIF = 'Data da notificação'"
   ]
  },
  {
   "cell_type": "markdown",
   "metadata": {},
   "source": [
    "Há algumas inconsistências\n",
    "\n",
    "Assumimos que a coluna é um timestamp e que alguns estão com um 0 a menos\n",
    "\n",
    "Para as linhas em que data tem menos de 15 0s adicionamos 1, para que os datetimes estejam no mesmo horário"
   ]
  },
  {
   "cell_type": "code",
   "execution_count": 15,
   "metadata": {},
   "outputs": [],
   "source": [
    "to_fix = np.log10(df_gripe[COL_DATA_NOTIF]) < 15\n",
    "df_gripe_clean.loc[to_fix,COL_DATA_NOTIF] = df_gripe.loc[to_fix,COL_DATA_NOTIF]*10"
   ]
  },
  {
   "cell_type": "code",
   "execution_count": 73,
   "metadata": {},
   "outputs": [
    {
     "data": {
      "text/plain": [
       "1843"
      ]
     },
     "execution_count": 73,
     "metadata": {},
     "output_type": "execute_result"
    }
   ],
   "source": [
    "np.sum(to_fix)"
   ]
  },
  {
   "cell_type": "markdown",
   "metadata": {},
   "source": [
    "Convertemos a data em datetime"
   ]
  },
  {
   "cell_type": "code",
   "execution_count": 16,
   "metadata": {},
   "outputs": [],
   "source": [
    "df_gripe_clean[COL_DATA_NOTIF] = df_gripe_clean[COL_DATA_NOTIF].apply(lambda x:\n",
    "                            datetime.fromtimestamp(x/1e6))"
   ]
  },
  {
   "cell_type": "markdown",
   "metadata": {},
   "source": [
    "Range de Datas de Notificação"
   ]
  },
  {
   "cell_type": "code",
   "execution_count": 18,
   "metadata": {},
   "outputs": [
    {
     "data": {
      "text/plain": [
       "count                   17545\n",
       "unique                     92\n",
       "top       2020-05-07 22:06:40\n",
       "freq                     1163\n",
       "first     2020-01-02 18:20:00\n",
       "last      2020-05-14 20:46:40\n",
       "Name: Data da notificação, dtype: object"
      ]
     },
     "execution_count": 18,
     "metadata": {},
     "output_type": "execute_result"
    }
   ],
   "source": [
    "df_gripe_clean[COL_DATA_NOTIF].describe()"
   ]
  },
  {
   "cell_type": "markdown",
   "metadata": {},
   "source": [
    "## 'Semana epidemiológica da notificação'"
   ]
  },
  {
   "cell_type": "markdown",
   "metadata": {},
   "source": [
    "Por convenção internacional as semanas epidemiológicas são contadas de domingo a sábado."
   ]
  },
  {
   "cell_type": "code",
   "execution_count": 19,
   "metadata": {},
   "outputs": [],
   "source": [
    "COL_DATA_SEM_EP = \"Semana epidemiológica da notificação\""
   ]
  },
  {
   "cell_type": "markdown",
   "metadata": {},
   "source": [
    "Convertemos a data em datetime"
   ]
  },
  {
   "cell_type": "code",
   "execution_count": 58,
   "metadata": {},
   "outputs": [],
   "source": [
    "df_gripe_clean[COL_DATA_SEM_EP] = pd.to_datetime(\n",
    "    df_gripe[COL_DATA_SEM_EP], format='%d/%m/%Y')"
   ]
  },
  {
   "cell_type": "markdown",
   "metadata": {},
   "source": [
    "Descrição das datas"
   ]
  },
  {
   "cell_type": "code",
   "execution_count": 59,
   "metadata": {},
   "outputs": [
    {
     "data": {
      "text/plain": [
       "count                   17545\n",
       "unique                    120\n",
       "top       2020-04-27 00:00:00\n",
       "freq                      695\n",
       "first     2020-01-01 00:00:00\n",
       "last      2020-05-14 00:00:00\n",
       "Name: Semana epidemiológica da notificação, dtype: object"
      ]
     },
     "execution_count": 59,
     "metadata": {},
     "output_type": "execute_result"
    }
   ],
   "source": [
    "df_gripe_clean[COL_DATA_SEM_EP].describe()"
   ]
  },
  {
   "cell_type": "code",
   "execution_count": 63,
   "metadata": {},
   "outputs": [],
   "source": [
    "future_sem = df_gripe_clean[COL_DATA_SEM_EP] > df_gripe_clean[COL_DATA_NOTIF]"
   ]
  },
  {
   "cell_type": "markdown",
   "metadata": {},
   "source": [
    "Alguns dos casos a semana epidemiológica da notificação vem depois da data de notificação.\n",
    "\n",
    "Mas a diferença é de um dia geralmente\n",
    "\n",
    "Exceto por um caso em que esse valor é maior que 14 dias. O que não faz sentido"
   ]
  },
  {
   "cell_type": "code",
   "execution_count": 68,
   "metadata": {},
   "outputs": [
    {
     "data": {
      "text/plain": [
       "134      0 days 01:53:20\n",
       "3954     0 days 08:06:40\n",
       "4849     0 days 01:53:20\n",
       "5689     0 days 00:33:20\n",
       "6318     0 days 01:53:20\n",
       "6987     0 days 01:53:20\n",
       "7981     0 days 00:20:00\n",
       "8167     0 days 01:40:00\n",
       "8465     0 days 00:20:00\n",
       "8576     0 days 00:20:00\n",
       "11324    0 days 08:06:40\n",
       "11518    0 days 01:26:40\n",
       "12293    0 days 01:53:20\n",
       "12819    0 days 01:53:20\n",
       "13152    0 days 01:26:40\n",
       "13674    0 days 01:53:20\n",
       "13888    0 days 04:20:00\n",
       "14303    0 days 04:20:00\n",
       "15450    0 days 04:06:40\n",
       "16306    0 days 01:40:00\n",
       "16628    0 days 01:40:00\n",
       "16737    0 days 01:40:00\n",
       "17037    0 days 00:33:20\n",
       "17158    0 days 04:06:40\n",
       "17181   14 days 06:33:20\n",
       "dtype: timedelta64[ns]"
      ]
     },
     "execution_count": 68,
     "metadata": {},
     "output_type": "execute_result"
    }
   ],
   "source": [
    "diff_notif_sem = df_gripe_clean[future_sem][COL_DATA_SEM_EP]- df_gripe_clean[future_sem][COL_DATA_NOTIF]\n",
    "diff_notif_sem"
   ]
  },
  {
   "cell_type": "code",
   "execution_count": 69,
   "metadata": {
    "scrolled": true
   },
   "outputs": [
    {
     "data": {
      "text/plain": [
       "Timedelta('14 days 06:33:20')"
      ]
     },
     "execution_count": 69,
     "metadata": {},
     "output_type": "execute_result"
    }
   ],
   "source": [
    "diff_notif_sem.max()"
   ]
  },
  {
   "cell_type": "markdown",
   "metadata": {},
   "source": [
    "## 'Data de nascimento'"
   ]
  },
  {
   "cell_type": "markdown",
   "metadata": {},
   "source": [
    "Acho que deram o nome errado a coluna"
   ]
  },
  {
   "cell_type": "code",
   "execution_count": 70,
   "metadata": {},
   "outputs": [
    {
     "data": {
      "text/plain": [
       "array(['1 - Masculino', '2 - Feminino', '9 - Ignorado'], dtype=object)"
      ]
     },
     "execution_count": 70,
     "metadata": {},
     "output_type": "execute_result"
    }
   ],
   "source": [
    "COL_NASCIMENTO_WRONG = 'Data de nascimento'\n",
    "df_gripe_clean[COL_NASCIMENTO_WRONG].unique()"
   ]
  },
  {
   "cell_type": "code",
   "execution_count": 54,
   "metadata": {},
   "outputs": [
    {
     "data": {
      "text/plain": [
       "1 - Masculino    9642\n",
       "2 - Feminino     7884\n",
       "9 - Ignorado       19\n",
       "Name: Data de nascimento, dtype: int64"
      ]
     },
     "execution_count": 54,
     "metadata": {},
     "output_type": "execute_result"
    }
   ],
   "source": [
    "df_gripe_clean[COL_NASCIMENTO_WRONG].value_counts()"
   ]
  },
  {
   "cell_type": "markdown",
   "metadata": {},
   "source": [
    "Renomeamos a coluna"
   ]
  },
  {
   "cell_type": "code",
   "execution_count": 55,
   "metadata": {},
   "outputs": [],
   "source": [
    "COL_SEXO = '_sexo'\n",
    "df_gripe_clean[COL_SEXO] = df_gripe_clean[COL_NASCIMENTO_WRONG] "
   ]
  },
  {
   "cell_type": "markdown",
   "metadata": {},
   "source": [
    "## 'Sexo'"
   ]
  },
  {
   "cell_type": "markdown",
   "metadata": {},
   "source": [
    "Difícil saber do que se trata realmente, parece ser um código"
   ]
  },
  {
   "cell_type": "code",
   "execution_count": 75,
   "metadata": {},
   "outputs": [
    {
     "data": {
      "text/plain": [
       "3034984    501\n",
       "2298120    415\n",
       "2696851    387\n",
       "3005992    341\n",
       "5717256    329\n",
       "          ... \n",
       "12548        1\n",
       "2288230      1\n",
       "6539858      1\n",
       "27014        1\n",
       "6003494      1\n",
       "Name: Sexo, Length: 447, dtype: int64"
      ]
     },
     "execution_count": 75,
     "metadata": {},
     "output_type": "execute_result"
    }
   ],
   "source": [
    "COL_SEXO_WRONG = 'Sexo'\n",
    "df_gripe_clean[COL_SEXO_WRONG].value_counts()"
   ]
  },
  {
   "cell_type": "code",
   "execution_count": 76,
   "metadata": {},
   "outputs": [],
   "source": [
    "if COL_SEXO_WRONG in df_gripe_clean:\n",
    "    del df_gripe_clean[COL_SEXO_WRONG]"
   ]
  },
  {
   "cell_type": "markdown",
   "metadata": {},
   "source": [
    "## 'Município notificante'"
   ]
  },
  {
   "cell_type": "markdown",
   "metadata": {},
   "source": [
    "A vasta maioria dos casos são do rio de janeiro neste dataset"
   ]
  },
  {
   "cell_type": "code",
   "execution_count": 82,
   "metadata": {},
   "outputs": [
    {
     "data": {
      "text/plain": [
       "RJ    17475\n",
       "SP       30\n",
       "MG       20\n",
       "PR        3\n",
       "AL        2\n",
       "SC        2\n",
       "BA        2\n",
       "ES        2\n",
       "MT        1\n",
       "PI        1\n",
       "MA        1\n",
       "SE        1\n",
       "PA        1\n",
       "RS        1\n",
       "DF        1\n",
       "GO        1\n",
       "CE        1\n",
       "Name: Município notificante, dtype: int64"
      ]
     },
     "execution_count": 82,
     "metadata": {},
     "output_type": "execute_result"
    }
   ],
   "source": [
    "COL_MUN_NOTIF = 'Município notificante'\n",
    "df_gripe[COL_MUN_NOTIF].value_counts()"
   ]
  },
  {
   "cell_type": "markdown",
   "metadata": {},
   "source": [
    "Filtramos apenas os casos do rio de janeiro e excluímos a coluna"
   ]
  },
  {
   "cell_type": "code",
   "execution_count": 87,
   "metadata": {},
   "outputs": [],
   "source": [
    "df_gripe_clean = df_gripe_clean[df_gripe_clean[COL_MUN_NOTIF]=='RJ']"
   ]
  },
  {
   "cell_type": "code",
   "execution_count": 88,
   "metadata": {},
   "outputs": [],
   "source": [
    "if COL_MUN_NOTIF in df_gripe_clean:\n",
    "    del df_gripe_clean[COL_MUN_NOTIF]"
   ]
  },
  {
   "cell_type": "markdown",
   "metadata": {},
   "source": [
    "## 'Unidade da idade'"
   ]
  },
  {
   "cell_type": "markdown",
   "metadata": {},
   "source": [
    "Parece ser a verdadeira coluna para data de nascimento"
   ]
  },
  {
   "cell_type": "code",
   "execution_count": 92,
   "metadata": {},
   "outputs": [
    {
     "data": {
      "text/plain": [
       "0        16/04/1953\n",
       "1        14/11/1960\n",
       "2        26/12/1936\n",
       "3        22/07/1978\n",
       "4        05/11/1945\n",
       "            ...    \n",
       "17540    12/12/1950\n",
       "17541    27/01/1951\n",
       "17542    04/09/1979\n",
       "17543    13/06/1943\n",
       "17544    01/01/1939\n",
       "Name: Unidade da idade, Length: 17545, dtype: object"
      ]
     },
     "execution_count": 92,
     "metadata": {},
     "output_type": "execute_result"
    }
   ],
   "source": [
    "COL_UNIDADE_IDADE = 'Unidade da idade'\n",
    "COL_DATA_NASCIMENTO = 'Data de Nascimento'\n",
    "df_gripe['Unidade da idade']"
   ]
  },
  {
   "cell_type": "code",
   "execution_count": 91,
   "metadata": {},
   "outputs": [
    {
     "data": {
      "text/plain": [
       "13221"
      ]
     },
     "execution_count": 91,
     "metadata": {},
     "output_type": "execute_result"
    }
   ],
   "source": [
    "df_gripe['Todos os sintomas'].isna().sum()"
   ]
  },
  {
   "cell_type": "code",
   "execution_count": 89,
   "metadata": {},
   "outputs": [
    {
     "data": {
      "text/plain": [
       "['Número da notificação',\n",
       " 'Data da notificação',\n",
       " 'Semana epidemiológica da notificação',\n",
       " 'Data dos primeiros sintomas',\n",
       " 'Semana epidemiológica dos primeiros sintomas',\n",
       " 'UF notificante',\n",
       " 'Município notificante',\n",
       " 'Código do município notificante',\n",
       " 'Unidade notificante',\n",
       " 'CNES da unidade notificante',\n",
       " 'Sexo',\n",
       " 'Data de nascimento',\n",
       " 'Unidade da idade',\n",
       " 'Idade',\n",
       " 'Gestante',\n",
       " 'Raça/cor',\n",
       " 'Etnia',\n",
       " 'Escolaridade',\n",
       " 'Ocupação',\n",
       " 'CBO da ocupação',\n",
       " 'UF de residência',\n",
       " 'Município de residência',\n",
       " 'Código do município de residência',\n",
       " 'Bairro',\n",
       " 'Zona',\n",
       " 'País de residência',\n",
       " 'Código do país de residência',\n",
       " 'Histórico de viagem internacional',\n",
       " 'País viagem internacional',\n",
       " 'Código país viagem internacional',\n",
       " 'Local viagem internacional',\n",
       " 'Data de partida viagem internacional',\n",
       " 'Data de retorno viagem internacional',\n",
       " 'Caso de surto de SG que evoluiu para SRAG',\n",
       " 'Caso nosocomial - adquirido no hospital',\n",
       " 'Contato com aves ou suínos',\n",
       " 'Sintomas - febre',\n",
       " 'Sintomas - tosse',\n",
       " 'Sintomas - garganta',\n",
       " 'Sintomas - dispneia',\n",
       " 'Sintomas - desconforto respiratório',\n",
       " 'Sintomas - saturação O2<95%',\n",
       " 'Sintomas - diarreia',\n",
       " 'Sintomas - vômito',\n",
       " 'Sintomas - tem outros',\n",
       " 'Sintomas - outros',\n",
       " 'Todos os sintomas',\n",
       " 'Fatores de risco - puérpera',\n",
       " 'Fatores de risco - doença cardiovascular crônica',\n",
       " 'Fatores de risco - doença hematológica crônica',\n",
       " 'Fatores de risco - síndrome de Down',\n",
       " 'Fatores de risco - doença hepática crônica',\n",
       " 'Fatores de risco - asma',\n",
       " 'Fatores de risco - diabetes mellitus',\n",
       " 'Fatores de risco - doença neurológica crônica',\n",
       " 'Fatores de risco - outra pneumopatia crônica',\n",
       " 'Fatores de risco - imunodeficiência/imunodepressão',\n",
       " 'Fatores de risco - doença renal crônica',\n",
       " 'Fatores de risco - obesidade',\n",
       " 'Fatores de risco - IMC obesidade',\n",
       " 'Fatores de risco - tem outros',\n",
       " 'Fatores de risco - outros',\n",
       " 'Fatores de risco - todos',\n",
       " 'Vacinado contra gripe na última campanha',\n",
       " 'Data da vacinação',\n",
       " '< 6 Meses: Mãe recebeu vacina',\n",
       " 'Data da vacinação da mãe',\n",
       " '< 6 Meses: Mãe amamenta',\n",
       " 'Data da vacinação dose única',\n",
       " 'Data da vacinação 1ª dose',\n",
       " 'Data da vacinação 2ª dose',\n",
       " 'Usou antiviral para gripe',\n",
       " 'Tipo de antiviral',\n",
       " 'Outro antiviral',\n",
       " 'Antiviral - todos',\n",
       " 'Data de início tratamento',\n",
       " 'Houve internação para SRAG',\n",
       " 'Data de internação',\n",
       " 'UF de internação',\n",
       " 'Município de internação',\n",
       " 'Código do município de internação',\n",
       " 'Unidade de saúde de internação',\n",
       " 'CNES da unidade de saúde de internação',\n",
       " 'Internado em UTI',\n",
       " 'Data da entrada na UTI',\n",
       " 'Data de saída da UTI',\n",
       " 'Uso de suporte ventilatório',\n",
       " 'Raio X de tórax',\n",
       " 'Raio X - outro tipo',\n",
       " 'Raio X - todos os tipos',\n",
       " 'Data do Raio X',\n",
       " 'Coletou amostra',\n",
       " 'Data da Coleta',\n",
       " 'Tipo de amostra',\n",
       " 'Amostra - outro tipo',\n",
       " 'Amostra - todos os tipos',\n",
       " 'Número de requisição no GAL',\n",
       " 'Resultado da IF',\n",
       " 'Data do resultado da IF',\n",
       " 'IF - Positivo para influenza',\n",
       " 'IF - Tipo de influenza',\n",
       " 'IF - Positivo para outros vírus',\n",
       " 'IF - Positivo para vírus sincicial respiratório',\n",
       " 'IF - Positivo para parainfluenza 1',\n",
       " 'IF - Positivo para parainfluenza 2',\n",
       " 'IF - Positivo para parainfluenza 3',\n",
       " 'IF - Positivo para adenovírus',\n",
       " 'IF - Positivo para outro vírus respiratório',\n",
       " 'IF - Outro vírus respiratórios',\n",
       " 'IF - Todos os resultados',\n",
       " 'Laboratório que realizou o IF',\n",
       " 'CNES do laboratório que realizou o IF',\n",
       " 'Resultado da RT-PCR',\n",
       " 'Data do resultado da RT-PCR',\n",
       " 'RT-PCR - Positivo para influenza',\n",
       " 'RT-PCR - Tipo de influenza',\n",
       " 'RT-PCR - Subtipo da influenza A',\n",
       " 'RT-PCR - Outro subtipo da influenza A',\n",
       " 'RT-PCR - Linhagem da influenza B',\n",
       " 'RT-PCR - Outra linhagem B',\n",
       " 'RT-PCR - Positivo para outros vírus',\n",
       " 'RT-PCR - Positivo para SARS-CoV-2',\n",
       " 'RT-PCR - Positivo para vírus sincicial respiratório',\n",
       " 'RT-PCR - Positivo para parainfluenza 1',\n",
       " 'RT-PCR - Positivo para parainfluenza 2',\n",
       " 'RT-PCR - Positivo para parainfluenza 3',\n",
       " 'RT-PCR - Positivo para parainfluenza 4',\n",
       " 'RT-PCR - Positivo para adenovírus',\n",
       " 'RT-PCR - Positivo para metapneumovírus',\n",
       " 'RT-PCR - Positivo para bocavírus',\n",
       " 'RT-PCR - Positivo para rinovírus',\n",
       " 'RT-PCR - Positivo para outro vírus respiratório',\n",
       " 'RT-PCR - Outro vírus respitatório',\n",
       " 'RT-PCR - todos os resultdos',\n",
       " 'Laboratório que realizou o RT-PCR',\n",
       " 'CNES do laboratório que realizou o RT-PCR',\n",
       " 'Classificação final do caso',\n",
       " 'Classificação final do caso - outro agente etiológico',\n",
       " 'Classificação final - completo',\n",
       " 'Agente etiológico',\n",
       " 'Critério do encerramento',\n",
       " 'Evolução do caso',\n",
       " 'Data da alta ou óbito',\n",
       " 'Data do encerramento',\n",
       " 'Observações',\n",
       " 'Data da digitação no sistema',\n",
       " 'Unnamed: 146',\n",
       " 'Unnamed: 147',\n",
       " 'Unnamed: 148',\n",
       " 'Unnamed: 149',\n",
       " 'Unnamed: 150',\n",
       " 'Unnamed: 151',\n",
       " 'Unnamed: 152',\n",
       " 'Unnamed: 153',\n",
       " 'Unnamed: 154',\n",
       " 'Unnamed: 155',\n",
       " 'Unnamed: 156',\n",
       " 'Unnamed: 157',\n",
       " 'Unnamed: 158',\n",
       " 'Unnamed: 159',\n",
       " 'Unnamed: 160',\n",
       " 'Unnamed: 161']"
      ]
     },
     "execution_count": 89,
     "metadata": {},
     "output_type": "execute_result"
    }
   ],
   "source": [
    "list(df_gripe.columns)"
   ]
  },
  {
   "cell_type": "markdown",
   "metadata": {},
   "source": [
    "'IF - Positivo para"
   ]
  },
  {
   "cell_type": "code",
   "execution_count": 54,
   "metadata": {},
   "outputs": [
    {
     "data": {
      "text/plain": [
       "Index(['Escolaridade', 'CBO da ocupação', 'UF de residência',\n",
       "       'Código país viagem internacional', 'Local viagem internacional',\n",
       "       'Data de partida viagem internacional',\n",
       "       'Data de retorno viagem internacional',\n",
       "       'Caso de surto de SG que evoluiu para SRAG',\n",
       "       'Fatores de risco - tem outros', '< 6 Meses: Mãe recebeu vacina',\n",
       "       'Data da vacinação da mãe', '< 6 Meses: Mãe amamenta',\n",
       "       'Data da vacinação dose única', 'Data da vacinação 1ª dose',\n",
       "       'Data da vacinação 2ª dose', 'Usou antiviral para gripe',\n",
       "       'Antiviral - todos', 'Uso de suporte ventilatório',\n",
       "       'IF - Positivo para outros vírus',\n",
       "       'IF - Positivo para vírus sincicial respiratório',\n",
       "       'IF - Positivo para parainfluenza 1',\n",
       "       'IF - Positivo para parainfluenza 2',\n",
       "       'IF - Positivo para parainfluenza 3', 'IF - Positivo para adenovírus',\n",
       "       'IF - Outro vírus respiratórios', 'IF - Todos os resultados',\n",
       "       'RT-PCR - Outro subtipo da influenza A',\n",
       "       'RT-PCR - Linhagem da influenza B', 'RT-PCR - Outra linhagem B',\n",
       "       'RT-PCR - Positivo para outros vírus',\n",
       "       'RT-PCR - Positivo para SARS-CoV-2',\n",
       "       'RT-PCR - Positivo para parainfluenza 2',\n",
       "       'RT-PCR - Positivo para parainfluenza 3',\n",
       "       'RT-PCR - Positivo para parainfluenza 4',\n",
       "       'RT-PCR - Positivo para adenovírus',\n",
       "       'RT-PCR - Positivo para metapneumovírus',\n",
       "       'RT-PCR - Positivo para bocavírus', 'RT-PCR - Positivo para rinovírus',\n",
       "       'RT-PCR - Positivo para outro vírus respiratório',\n",
       "       'RT-PCR - Outro vírus respitatório', 'RT-PCR - todos os resultdos'],\n",
       "      dtype='object')"
      ]
     },
     "execution_count": 54,
     "metadata": {},
     "output_type": "execute_result"
    }
   ],
   "source": [
    "df_gripe.columns[df_gripe.isna().sum(axis=0)/len(df_gripe) > 0.9]"
   ]
  },
  {
   "cell_type": "code",
   "execution_count": 24,
   "metadata": {},
   "outputs": [
    {
     "data": {
      "text/plain": [
       "array([330455, 330580, 330330, 330452, 330170, 330020, 330550, 330070,\n",
       "       330200, 330620, 330350, 330285, 330520, 330490, 330610, 330390,\n",
       "       330240, 221100, 330510, 330050, 330010, 330022, 330030, 330340,\n",
       "       330430, 330411, 330630, 330100, 330470, 330190, 330575, 330110,\n",
       "       355030, 330420, 530010, 330093, 330400, 330187, 330475, 330415,\n",
       "       330220, 330210, 330515, 330130, 330600, 330080, 330270, 330320,\n",
       "       330500, 330290, 330250, 330360, 330045, 330040, 330395, 314390,\n",
       "       316370, 330540, 330185, 330060, 311340, 330090, 330280, 310150,\n",
       "       355410, 330023, 330180, 330205, 330380, 292740, 150270, 330015,\n",
       "       350390, 230440, 520620, 291920, 330370, 320120, 270430, 310620,\n",
       "       316250, 330460, 330440, 354990, 313240, 510340, 420820, 312510,\n",
       "       316720, 313670, 211130, 431490, 330225, 354850, 351340, 330150,\n",
       "       410840, 351880, 355220, 354980, 350950, 351380, 420200, 320530,\n",
       "       410420, 330310, 280030])"
      ]
     },
     "execution_count": 24,
     "metadata": {},
     "output_type": "execute_result"
    }
   ],
   "source": [
    "df_gripe['Unidade notificante'].unique()"
   ]
  },
  {
   "cell_type": "code",
   "execution_count": 30,
   "metadata": {},
   "outputs": [],
   "source": [
    "df_gripe['Semana epidemiológica da notificação'] = pd.to_datetime(df_gripe['Semana epidemiológica da notificação'])"
   ]
  },
  {
   "cell_type": "code",
   "execution_count": 31,
   "metadata": {},
   "outputs": [
    {
     "data": {
      "text/plain": [
       "Timestamp('2020-01-01 00:00:00')"
      ]
     },
     "execution_count": 31,
     "metadata": {},
     "output_type": "execute_result"
    }
   ],
   "source": [
    "df_gripe['Semana epidemiológica da notificação'].min()"
   ]
  },
  {
   "cell_type": "code",
   "execution_count": 32,
   "metadata": {},
   "outputs": [
    {
     "data": {
      "text/plain": [
       "Timestamp('2020-12-05 00:00:00')"
      ]
     },
     "execution_count": 32,
     "metadata": {},
     "output_type": "execute_result"
    }
   ],
   "source": [
    "df_gripe['Semana epidemiológica da notificação'].max()"
   ]
  },
  {
   "cell_type": "code",
   "execution_count": 5,
   "metadata": {
    "scrolled": true
   },
   "outputs": [
    {
     "data": {
      "text/html": [
       "<div>\n",
       "<style scoped>\n",
       "    .dataframe tbody tr th:only-of-type {\n",
       "        vertical-align: middle;\n",
       "    }\n",
       "\n",
       "    .dataframe tbody tr th {\n",
       "        vertical-align: top;\n",
       "    }\n",
       "\n",
       "    .dataframe thead th {\n",
       "        text-align: right;\n",
       "    }\n",
       "</style>\n",
       "<table border=\"1\" class=\"dataframe\">\n",
       "  <thead>\n",
       "    <tr style=\"text-align: right;\">\n",
       "      <th></th>\n",
       "      <th>Número da notificação</th>\n",
       "      <th>Data da notificação</th>\n",
       "      <th>Semana epidemiológica da notificação</th>\n",
       "      <th>Data dos primeiros sintomas</th>\n",
       "      <th>Semana epidemiológica dos primeiros sintomas</th>\n",
       "      <th>UF notificante</th>\n",
       "      <th>Município notificante</th>\n",
       "      <th>Código do município notificante</th>\n",
       "      <th>Unidade notificante</th>\n",
       "      <th>CNES da unidade notificante</th>\n",
       "      <th>...</th>\n",
       "      <th>Unnamed: 152</th>\n",
       "      <th>Unnamed: 153</th>\n",
       "      <th>Unnamed: 154</th>\n",
       "      <th>Unnamed: 155</th>\n",
       "      <th>Unnamed: 156</th>\n",
       "      <th>Unnamed: 157</th>\n",
       "      <th>Unnamed: 158</th>\n",
       "      <th>Unnamed: 159</th>\n",
       "      <th>Unnamed: 160</th>\n",
       "      <th>Unnamed: 161</th>\n",
       "    </tr>\n",
       "  </thead>\n",
       "  <tbody>\n",
       "    <tr>\n",
       "      <th>13817</th>\n",
       "      <td>3</td>\n",
       "      <td>1586900000000000</td>\n",
       "      <td>12/04/2020</td>\n",
       "      <td>16</td>\n",
       "      <td>07/04/2020</td>\n",
       "      <td>15</td>\n",
       "      <td>RJ</td>\n",
       "      <td>CABO FRIO</td>\n",
       "      <td>330070</td>\n",
       "      <td>HOSPITAL SANTA IZABEL</td>\n",
       "      <td>...</td>\n",
       "      <td>NaN</td>\n",
       "      <td>NaN</td>\n",
       "      <td>NaN</td>\n",
       "      <td>NaN</td>\n",
       "      <td>NaN</td>\n",
       "      <td>NaN</td>\n",
       "      <td>NaN</td>\n",
       "      <td>NaN</td>\n",
       "      <td>NaN</td>\n",
       "      <td>NaN</td>\n",
       "    </tr>\n",
       "    <tr>\n",
       "      <th>9907</th>\n",
       "      <td>3</td>\n",
       "      <td>1587800000000000</td>\n",
       "      <td>14/04/2020</td>\n",
       "      <td>16</td>\n",
       "      <td>11/04/2020</td>\n",
       "      <td>15</td>\n",
       "      <td>RJ</td>\n",
       "      <td>SAO GONCALO</td>\n",
       "      <td>330490</td>\n",
       "      <td>HOSPITAL SAO GONCALO LTDA</td>\n",
       "      <td>...</td>\n",
       "      <td>NaN</td>\n",
       "      <td>NaN</td>\n",
       "      <td>NaN</td>\n",
       "      <td>NaN</td>\n",
       "      <td>NaN</td>\n",
       "      <td>NaN</td>\n",
       "      <td>NaN</td>\n",
       "      <td>NaN</td>\n",
       "      <td>NaN</td>\n",
       "      <td>NaN</td>\n",
       "    </tr>\n",
       "    <tr>\n",
       "      <th>14816</th>\n",
       "      <td>3</td>\n",
       "      <td>1588900000000000</td>\n",
       "      <td>28/04/2020</td>\n",
       "      <td>18</td>\n",
       "      <td>27/04/2020</td>\n",
       "      <td>18</td>\n",
       "      <td>RJ</td>\n",
       "      <td>RIO DE JANEIRO</td>\n",
       "      <td>330455</td>\n",
       "      <td>UNIMED RIO PA BARRA</td>\n",
       "      <td>...</td>\n",
       "      <td>NaN</td>\n",
       "      <td>NaN</td>\n",
       "      <td>NaN</td>\n",
       "      <td>NaN</td>\n",
       "      <td>NaN</td>\n",
       "      <td>NaN</td>\n",
       "      <td>NaN</td>\n",
       "      <td>NaN</td>\n",
       "      <td>NaN</td>\n",
       "      <td>NaN</td>\n",
       "    </tr>\n",
       "  </tbody>\n",
       "</table>\n",
       "<p>3 rows × 162 columns</p>\n",
       "</div>"
      ],
      "text/plain": [
       "       Número da notificação  Data da notificação  \\\n",
       "13817                      3     1586900000000000   \n",
       "9907                       3     1587800000000000   \n",
       "14816                      3     1588900000000000   \n",
       "\n",
       "      Semana epidemiológica da notificação  Data dos primeiros sintomas  \\\n",
       "13817                           12/04/2020                           16   \n",
       "9907                            14/04/2020                           16   \n",
       "14816                           28/04/2020                           18   \n",
       "\n",
       "      Semana epidemiológica dos primeiros sintomas  UF notificante  \\\n",
       "13817                                   07/04/2020              15   \n",
       "9907                                    11/04/2020              15   \n",
       "14816                                   27/04/2020              18   \n",
       "\n",
       "      Município notificante Código do município notificante  \\\n",
       "13817                    RJ                       CABO FRIO   \n",
       "9907                     RJ                     SAO GONCALO   \n",
       "14816                    RJ                  RIO DE JANEIRO   \n",
       "\n",
       "       Unidade notificante CNES da unidade notificante  ...  Unnamed: 152  \\\n",
       "13817               330070       HOSPITAL SANTA IZABEL  ...           NaN   \n",
       "9907                330490   HOSPITAL SAO GONCALO LTDA  ...           NaN   \n",
       "14816               330455         UNIMED RIO PA BARRA  ...           NaN   \n",
       "\n",
       "      Unnamed: 153 Unnamed: 154 Unnamed: 155  Unnamed: 156 Unnamed: 157  \\\n",
       "13817          NaN          NaN          NaN           NaN          NaN   \n",
       "9907           NaN          NaN          NaN           NaN          NaN   \n",
       "14816          NaN          NaN          NaN           NaN          NaN   \n",
       "\n",
       "      Unnamed: 158 Unnamed: 159 Unnamed: 160 Unnamed: 161  \n",
       "13817          NaN          NaN          NaN          NaN  \n",
       "9907           NaN          NaN          NaN          NaN  \n",
       "14816          NaN          NaN          NaN          NaN  \n",
       "\n",
       "[3 rows x 162 columns]"
      ]
     },
     "execution_count": 5,
     "metadata": {},
     "output_type": "execute_result"
    }
   ],
   "source": [
    "df_gripe.sample(3)"
   ]
  },
  {
   "cell_type": "code",
   "execution_count": 10,
   "metadata": {},
   "outputs": [
    {
     "data": {
      "text/plain": [
       "Número da notificação                               0\n",
       "Data da notificação                                 0\n",
       "Semana epidemiológica da notificação                0\n",
       "Data dos primeiros sintomas                         0\n",
       "Semana epidemiológica dos primeiros sintomas        0\n",
       "                                                ...  \n",
       "Unnamed: 157                                    17542\n",
       "Unnamed: 158                                    17544\n",
       "Unnamed: 159                                    17544\n",
       "Unnamed: 160                                    17544\n",
       "Unnamed: 161                                    17544\n",
       "Length: 162, dtype: int64"
      ]
     },
     "execution_count": 10,
     "metadata": {},
     "output_type": "execute_result"
    }
   ],
   "source": [
    "df_gripe.isna().sum(axis=0)"
   ]
  },
  {
   "cell_type": "code",
   "execution_count": null,
   "metadata": {},
   "outputs": [],
   "source": []
  }
 ],
 "metadata": {
  "kernelspec": {
   "display_name": "Python 3",
   "language": "python",
   "name": "python3"
  },
  "language_info": {
   "codemirror_mode": {
    "name": "ipython",
    "version": 3
   },
   "file_extension": ".py",
   "mimetype": "text/x-python",
   "name": "python",
   "nbconvert_exporter": "python",
   "pygments_lexer": "ipython3",
   "version": "3.6.9"
  }
 },
 "nbformat": 4,
 "nbformat_minor": 4
}
