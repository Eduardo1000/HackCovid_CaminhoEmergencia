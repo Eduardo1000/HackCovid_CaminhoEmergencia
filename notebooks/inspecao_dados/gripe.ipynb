{
 "cells": [
  {
   "cell_type": "code",
   "execution_count": 1,
   "metadata": {},
   "outputs": [],
   "source": [
    "import numpy as np\n",
    "import pandas as pd\n",
    "import matplotlib.pyplot as plt\n",
    "import constants as ct"
   ]
  },
  {
   "cell_type": "markdown",
   "metadata": {},
   "source": [
    "# Limpeza dos dados"
   ]
  },
  {
   "cell_type": "markdown",
   "metadata": {},
   "source": [
    "Dataset Original"
   ]
  },
  {
   "cell_type": "code",
   "execution_count": 2,
   "metadata": {},
   "outputs": [],
   "source": [
    "df_gripe = pd.read_csv(ct.PATH_GRIPE, low_memory=False)"
   ]
  },
  {
   "cell_type": "markdown",
   "metadata": {},
   "source": [
    "Dataset tratado"
   ]
  },
  {
   "cell_type": "code",
   "execution_count": 3,
   "metadata": {},
   "outputs": [],
   "source": [
    "df_gripe_clean = df_gripe.copy()"
   ]
  },
  {
   "cell_type": "markdown",
   "metadata": {},
   "source": [
    "Dataset mínimo"
   ]
  },
  {
   "cell_type": "code",
   "execution_count": 4,
   "metadata": {},
   "outputs": [],
   "source": [
    "df_gripe_min = pd.DataFrame()"
   ]
  },
  {
   "cell_type": "markdown",
   "metadata": {},
   "source": [
    "Colunas constantes"
   ]
  },
  {
   "cell_type": "code",
   "execution_count": 5,
   "metadata": {},
   "outputs": [
    {
     "data": {
      "text/plain": [
       "['IF - Positivo para parainfluenza 1',\n",
       " 'IF - Positivo para parainfluenza 2',\n",
       " 'IF - Positivo para parainfluenza 3',\n",
       " 'RT-PCR - Outra linhagem B',\n",
       " 'RT-PCR - Positivo para bocavírus']"
      ]
     },
     "execution_count": 5,
     "metadata": {},
     "output_type": "execute_result"
    }
   ],
   "source": [
    "constant_cols = [x  for x in df_gripe.columns if (len(df_gripe[x].unique())==1)]\n",
    "constant_cols"
   ]
  },
  {
   "cell_type": "code",
   "execution_count": 6,
   "metadata": {},
   "outputs": [],
   "source": [
    "for c in constant_cols:\n",
    "    if c in df_gripe_clean.columns:\n",
    "        del df_gripe_clean[c] "
   ]
  },
  {
   "cell_type": "markdown",
   "metadata": {},
   "source": [
    "removed columns"
   ]
  },
  {
   "cell_type": "code",
   "execution_count": 7,
   "metadata": {},
   "outputs": [
    {
     "name": "stdout",
     "output_type": "stream",
     "text": [
      "5\n"
     ]
    }
   ],
   "source": [
    "print(len(constant_cols))"
   ]
  },
  {
   "cell_type": "markdown",
   "metadata": {},
   "source": [
    "# Selected Columns"
   ]
  },
  {
   "cell_type": "code",
   "execution_count": 8,
   "metadata": {},
   "outputs": [],
   "source": [
    "COL_DATA_NOTIF = 'Data da notificação'\n",
    "COL_IDADE = 'Idade'\n",
    "COL_SEXO = 'Sexo'\n",
    "COL_DATA_ENTRADA = 'Data de internação'\n",
    "COL_DATA_ENTRADA_UTI = 'Data da entrada na UTI'\n",
    "COL_DATA_SAIDA_UTI = 'Data de saída da UTI'\n",
    "COL_DATA_SAIDA = 'Data da alta ou óbito'\n",
    "COL_CLASSIF = 'Classificação final do caso'\n",
    "COL_BAIRRO = 'Bairro'\n",
    "COL_RESOLUCAO = 'Evolução do caso'\n",
    "COL_CNES_INT = 'CNES da unidade de saúde de internação'"
   ]
  },
  {
   "cell_type": "code",
   "execution_count": 21,
   "metadata": {},
   "outputs": [
    {
     "data": {
      "text/plain": [
       "array(['09/04/2020', '17/04/2020', '27/04/2020', '06/04/2020',\n",
       "       '28/03/2020', '01/04/2020', nan, '28/04/2020', '16/04/2020',\n",
       "       '30/04/2020', '19/04/2020', '01/05/2020', '11/04/2020',\n",
       "       '29/04/2020', '13/04/2020', '11/05/2020', '03/05/2020',\n",
       "       '26/04/2020', '10/03/2020', '08/05/2020', '12/04/2020',\n",
       "       '15/04/2020', '05/05/2020', '12/05/2020', '23/04/2020',\n",
       "       '14/04/2020', '30/03/2020', '22/04/2020', '13/05/2020',\n",
       "       '09/05/2020', '25/04/2020', '24/04/2020', '02/04/2020',\n",
       "       '20/04/2020', '02/05/2020', '05/04/2020', '25/03/2020',\n",
       "       '06/05/2020', '23/03/2020', '04/04/2020', '21/03/2020',\n",
       "       '10/04/2020', '21/04/2020', '08/04/2020', '27/03/2020',\n",
       "       '17/03/2020', '16/03/2020', '04/05/2020', '10/05/2020',\n",
       "       '18/04/2020', '19/03/2020', '18/03/2020', '03/04/2020',\n",
       "       '29/03/2020', '22/03/2020', '31/03/2020', '26/03/2020',\n",
       "       '20/03/2020', '15/05/2020', '13/03/2020', '10/01/2020',\n",
       "       '07/05/2020', '07/04/2020', '07/01/2020', '09/03/2020',\n",
       "       '14/05/2020', '14/03/2020', '15/03/2020', '28/02/2020',\n",
       "       '24/03/2020', '08/03/2020', '31/12/2019', '05/03/2020',\n",
       "       '10/02/2020', '01/03/2020', '24/01/2020', '11/03/2020',\n",
       "       '12/03/2020', '29/01/2020', '30/01/2020', '04/02/2020',\n",
       "       '25/02/2020', '04/03/2020', '07/03/2020', '08/01/2020',\n",
       "       '15/01/2020', '23/01/2020', '09/01/2020', '02/03/2020',\n",
       "       '29/02/2020', '06/01/2020', '22/01/2020', '03/01/2020',\n",
       "       '14/01/2020', '19/01/2020', '13/01/2020', '31/01/2020',\n",
       "       '02/02/2020', '17/02/2020', '03/03/2020', '27/01/2020',\n",
       "       '22/02/2020', '06/06/2020', '19/02/2020', '28/01/2020',\n",
       "       '20/02/2020', '05/01/2020', '16/01/2020', '18/02/2020',\n",
       "       '30/05/2020', '26/01/2020', '25/05/2020', '21/01/2020',\n",
       "       '15/02/2020', '12/01/2020', '06/03/2020', '02/01/2020',\n",
       "       '16/02/2020', '12/02/2020', '02/09/2020', '04/01/2020',\n",
       "       '09/02/2020', '22/05/2020', '30/12/2019', '08/02/2020',\n",
       "       '28/05/2020', '13/02/2020', '10/07/2020', '28/09/2020',\n",
       "       '08/09/2020', '06/02/2020', '28/04/7202', '12/07/2020',\n",
       "       '27/02/2020', '25/01/2020', '26/02/2020', '22/09/2020',\n",
       "       '13/09/2020', '17/01/2020'], dtype=object)"
      ]
     },
     "execution_count": 21,
     "metadata": {},
     "output_type": "execute_result"
    }
   ],
   "source": [
    "df_gripe['Data de internação'].unique()"
   ]
  },
  {
   "cell_type": "code",
   "execution_count": 25,
   "metadata": {},
   "outputs": [],
   "source": [
    "df_gripe_clean = df_gripe_clean[~df_gripe_clean['Data de internação'].isna()]"
   ]
  },
  {
   "cell_type": "code",
   "execution_count": 41,
   "metadata": {},
   "outputs": [],
   "source": [
    "df_gripe_clean = df_gripe_clean[df_gripe_clean['Data de internação'] != '28/04/7202'].copy()"
   ]
  },
  {
   "cell_type": "code",
   "execution_count": 42,
   "metadata": {},
   "outputs": [],
   "source": [
    "df_gripe_clean['Data de internação'] = pd.to_datetime(df_gripe_clean['Data de internação'], format='%d/%m/%Y')"
   ]
  },
  {
   "cell_type": "code",
   "execution_count": 45,
   "metadata": {},
   "outputs": [],
   "source": [
    "from datetime import datetime"
   ]
  },
  {
   "cell_type": "markdown",
   "metadata": {},
   "source": [
    "Remove internações futuras"
   ]
  },
  {
   "cell_type": "code",
   "execution_count": 48,
   "metadata": {},
   "outputs": [],
   "source": [
    "df_gripe_clean = df_gripe_clean[df_gripe_clean['Data de internação'] < datetime.now()].copy()"
   ]
  },
  {
   "cell_type": "code",
   "execution_count": 53,
   "metadata": {},
   "outputs": [],
   "source": [
    "min_cols = [\n",
    "    COL_DATA_NOTIF, \n",
    "    COL_DATA_ENTRADA, COL_DATA_SAIDA, \n",
    "    COL_DATA_ENTRADA_UTI, COL_DATA_SAIDA_UTI,\n",
    "    COL_CNES_INT, \n",
    "    COL_IDADE, COL_SEXO,COL_BAIRRO,\n",
    "    COL_CLASSIF, COL_RESOLUCAO]\n",
    "df_gripe_min = df_gripe_clean[min_cols].copy()"
   ]
  },
  {
   "cell_type": "code",
   "execution_count": 56,
   "metadata": {},
   "outputs": [],
   "source": [
    "df_gripe_min['Data de internação'] = df_gripe_min['Data de internação'].dt.strftime(\"%d/%m/%Y\")"
   ]
  },
  {
   "cell_type": "code",
   "execution_count": 57,
   "metadata": {},
   "outputs": [
    {
     "data": {
      "text/plain": [
       "Data da notificação                           0\n",
       "Data de internação                            0\n",
       "Data da alta ou óbito                     10783\n",
       "Data da entrada na UTI                     9952\n",
       "Data de saída da UTI                      15458\n",
       "CNES da unidade de saúde de internação     1629\n",
       "Idade                                         0\n",
       "Sexo                                          0\n",
       "Bairro                                      582\n",
       "Classificação final do caso                8773\n",
       "Evolução do caso                          10207\n",
       "dtype: int64"
      ]
     },
     "execution_count": 57,
     "metadata": {},
     "output_type": "execute_result"
    }
   ],
   "source": [
    "df_gripe_min.isna().sum(axis=0)"
   ]
  },
  {
   "cell_type": "code",
   "execution_count": 58,
   "metadata": {},
   "outputs": [],
   "source": [
    "df_gripe_min[COL_CNES_INT] = df_gripe_min[COL_CNES_INT].fillna(0)\n",
    "df_gripe_min[COL_CNES_INT] = df_gripe_min[COL_CNES_INT].astype(int)"
   ]
  },
  {
   "cell_type": "code",
   "execution_count": 59,
   "metadata": {},
   "outputs": [],
   "source": [
    "df_gripe_min.to_csv(ct.PATH_GRIPE_MIN, index=False)"
   ]
  },
  {
   "cell_type": "code",
   "execution_count": null,
   "metadata": {},
   "outputs": [],
   "source": []
  }
 ],
 "metadata": {
  "kernelspec": {
   "display_name": "Python 3",
   "language": "python",
   "name": "python3"
  },
  "language_info": {
   "codemirror_mode": {
    "name": "ipython",
    "version": 3
   },
   "file_extension": ".py",
   "mimetype": "text/x-python",
   "name": "python",
   "nbconvert_exporter": "python",
   "pygments_lexer": "ipython3",
   "version": "3.6.9"
  }
 },
 "nbformat": 4,
 "nbformat_minor": 4
}
