{
 "cells": [
  {
   "cell_type": "code",
   "execution_count": 1,
   "metadata": {},
   "outputs": [],
   "source": [
    "import numpy as np\n",
    "import pandas as pd\n",
    "import matplotlib.pyplot as plt\n",
    "from datetime import datetime\n",
    "import constants as ct"
   ]
  },
  {
   "cell_type": "markdown",
   "metadata": {},
   "source": [
    "# Limpeza dos dados"
   ]
  },
  {
   "cell_type": "markdown",
   "metadata": {},
   "source": [
    "Dataset Original"
   ]
  },
  {
   "cell_type": "code",
   "execution_count": 2,
   "metadata": {},
   "outputs": [],
   "source": [
    "df_gripe_19 = pd.read_csv(ct.PATH_GRIPE_19, low_memory=False, sep=';')\n",
    "df_gripe_20 = pd.read_csv(ct.PATH_GRIPE_20, low_memory=False, sep=';')"
   ]
  },
  {
   "cell_type": "markdown",
   "metadata": {},
   "source": [
    "Concatenamos os datasets para gerar um único dataset de casos"
   ]
  },
  {
   "cell_type": "code",
   "execution_count": 3,
   "metadata": {},
   "outputs": [],
   "source": [
    "df_gripe = pd.concat([df_gripe_19,df_gripe_20],axis=0)"
   ]
  },
  {
   "cell_type": "markdown",
   "metadata": {},
   "source": [
    "# Selected Columns"
   ]
  },
  {
   "cell_type": "code",
   "execution_count": 4,
   "metadata": {},
   "outputs": [],
   "source": [
    "COL_DATA_NOTIF = 'Data da notificação'\n",
    "COL_IDADE = 'Idade'\n",
    "COL_SEXO = 'Sexo'\n",
    "COL_DATA_ENTRADA = 'Data de internação'\n",
    "COL_DATA_ENTRADA_UTI = 'Data da entrada na UTI'\n",
    "COL_DATA_SAIDA_UTI = 'Data de saída da UTI'\n",
    "COL_DATA_SAIDA = 'Data da alta ou óbito'\n",
    "COL_CLASSIF = 'Classificação final do caso'\n",
    "COL_BAIRRO = 'Bairro'\n",
    "COL_RESOLUCAO = 'Evolução do caso'\n",
    "COL_CNES_INT = 'CNES da unidade de saúde de internação'"
   ]
  },
  {
   "cell_type": "markdown",
   "metadata": {},
   "source": [
    "Removemos linhas sem data de internação"
   ]
  },
  {
   "cell_type": "code",
   "execution_count": 5,
   "metadata": {},
   "outputs": [],
   "source": [
    "df_gripe = df_gripe[~df_gripe[COL_DATA_ENTRADA].isna()]"
   ]
  },
  {
   "cell_type": "markdown",
   "metadata": {},
   "source": [
    "Removemos uma data fora do range de datetime"
   ]
  },
  {
   "cell_type": "code",
   "execution_count": 6,
   "metadata": {},
   "outputs": [],
   "source": [
    "df_gripe = df_gripe[df_gripe[COL_DATA_ENTRADA] != '28/04/7202'].copy()"
   ]
  },
  {
   "cell_type": "markdown",
   "metadata": {},
   "source": [
    "Transformamos datas em datetime"
   ]
  },
  {
   "cell_type": "code",
   "execution_count": 7,
   "metadata": {},
   "outputs": [],
   "source": [
    "df_gripe[COL_DATA_ENTRADA] = pd.to_datetime(df_gripe[COL_DATA_ENTRADA], format='%d/%m/%Y')"
   ]
  },
  {
   "cell_type": "markdown",
   "metadata": {},
   "source": [
    "Remove internações futuras"
   ]
  },
  {
   "cell_type": "code",
   "execution_count": 8,
   "metadata": {},
   "outputs": [],
   "source": [
    "df_gripe = df_gripe[df_gripe[COL_DATA_ENTRADA] < datetime.now()].copy()"
   ]
  },
  {
   "cell_type": "markdown",
   "metadata": {},
   "source": [
    "Retornamos o datetime de entrada ao formato original"
   ]
  },
  {
   "cell_type": "code",
   "execution_count": 9,
   "metadata": {},
   "outputs": [],
   "source": [
    "df_gripe[COL_DATA_ENTRADA] = df_gripe[COL_DATA_ENTRADA].dt.strftime(\"%d/%m/%Y\")"
   ]
  },
  {
   "cell_type": "markdown",
   "metadata": {},
   "source": [
    "Criamos dataset apenas com as colunas de interesse para computar a previsão de ocupação"
   ]
  },
  {
   "cell_type": "code",
   "execution_count": 10,
   "metadata": {},
   "outputs": [],
   "source": [
    "min_cols = [\n",
    "    COL_DATA_NOTIF, \n",
    "    COL_DATA_ENTRADA, COL_DATA_SAIDA, \n",
    "    COL_DATA_ENTRADA_UTI, COL_DATA_SAIDA_UTI,\n",
    "    COL_CNES_INT, \n",
    "    COL_IDADE, COL_SEXO,COL_BAIRRO,\n",
    "    COL_CLASSIF, COL_RESOLUCAO]\n",
    "df_gripe_min = df_gripe[min_cols].copy()"
   ]
  },
  {
   "cell_type": "markdown",
   "metadata": {},
   "source": [
    "Quantidades de Nans em cada coluna"
   ]
  },
  {
   "cell_type": "code",
   "execution_count": 11,
   "metadata": {},
   "outputs": [
    {
     "data": {
      "text/plain": [
       "Data da notificação                           0\n",
       "Data de internação                            0\n",
       "Data da alta ou óbito                     10647\n",
       "Data da entrada na UTI                    10427\n",
       "Data de saída da UTI                      16599\n",
       "CNES da unidade de saúde de internação     1694\n",
       "Idade                                         0\n",
       "Sexo                                          0\n",
       "Bairro                                      643\n",
       "Classificação final do caso                8593\n",
       "Evolução do caso                           9986\n",
       "dtype: int64"
      ]
     },
     "execution_count": 11,
     "metadata": {},
     "output_type": "execute_result"
    }
   ],
   "source": [
    "df_gripe_min.isna().sum(axis=0)"
   ]
  },
  {
   "cell_type": "markdown",
   "metadata": {},
   "source": [
    "Convertemos o código de CNES para inteiros para facilitar o merge com outros datasets. Preenchemos Nan com 0s"
   ]
  },
  {
   "cell_type": "code",
   "execution_count": 12,
   "metadata": {},
   "outputs": [],
   "source": [
    "df_gripe_min[COL_CNES_INT] = df_gripe_min[COL_CNES_INT].fillna(0)\n",
    "df_gripe_min[COL_CNES_INT] = df_gripe_min[COL_CNES_INT].astype(int)"
   ]
  },
  {
   "cell_type": "markdown",
   "metadata": {},
   "source": [
    "Salvamos o dataset filtrado"
   ]
  },
  {
   "cell_type": "code",
   "execution_count": 13,
   "metadata": {},
   "outputs": [],
   "source": [
    "df_gripe_min.to_csv(ct.PATH_GRIPE_MIN, index=False)"
   ]
  },
  {
   "cell_type": "code",
   "execution_count": null,
   "metadata": {},
   "outputs": [],
   "source": []
  }
 ],
 "metadata": {
  "kernelspec": {
   "display_name": "Python 3",
   "language": "python",
   "name": "python3"
  },
  "language_info": {
   "codemirror_mode": {
    "name": "ipython",
    "version": 3
   },
   "file_extension": ".py",
   "mimetype": "text/x-python",
   "name": "python",
   "nbconvert_exporter": "python",
   "pygments_lexer": "ipython3",
   "version": "3.6.9"
  }
 },
 "nbformat": 4,
 "nbformat_minor": 4
}
