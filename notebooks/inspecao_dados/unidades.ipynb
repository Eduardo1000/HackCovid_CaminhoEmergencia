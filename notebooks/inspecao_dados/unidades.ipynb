{
 "cells": [
  {
   "cell_type": "code",
   "execution_count": 62,
   "metadata": {},
   "outputs": [],
   "source": [
    "import numpy as np\n",
    "import pandas as pd\n",
    "import matplotlib.pyplot as plt\n",
    "import constants as ct"
   ]
  },
  {
   "cell_type": "markdown",
   "metadata": {},
   "source": [
    "Dados do SUS"
   ]
  },
  {
   "cell_type": "code",
   "execution_count": 63,
   "metadata": {},
   "outputs": [],
   "source": [
    "df_sus = pd.read_csv(ct.PATH_UNIDADES)"
   ]
  },
  {
   "cell_type": "markdown",
   "metadata": {},
   "source": [
    "Tamanho do dataset"
   ]
  },
  {
   "cell_type": "code",
   "execution_count": 64,
   "metadata": {},
   "outputs": [
    {
     "data": {
      "text/plain": [
       "(1839, 19)"
      ]
     },
     "execution_count": 64,
     "metadata": {},
     "output_type": "execute_result"
    }
   ],
   "source": [
    "df_sus.shape"
   ]
  },
  {
   "cell_type": "markdown",
   "metadata": {},
   "source": [
    "Colunas no Dataset\n",
    "   * **CO_UNIDADE** : Código da Unidade (int64)\n",
    "   * **CO_CNES** : Código Cadastro Nacional de Estabelecimentos de Saúde (int64)\n",
    "   * **NO_FANTASIA** : Nome Fantasia (str)\n",
    "   * **NO_LOGRADOURO** : Nome do Logradouro (str)\n",
    "   * **NU_ENDERECO** : Número do Endereço (int)\n",
    "   * **NO_COMPLEMENTO** : Nome Complemento (str)\n",
    "       - has Nan (1363)\n",
    "   * **NO_BAIRRO** : Nome do Bairro (str)\n",
    "   * **CO_CEP** : Código do CEP (int)\n",
    "   * **NU_LATITUDE** : Número Latitude (float) \n",
    "       - has Nan (612)\n",
    "   * **NU_LONGITUDE** : Número Longitude (float)\n",
    "       - has Nan (612)\n",
    "   * **NU_TELEFONE** : Número Telefone (str)\n",
    "       - has Nan (388)\n",
    "   * **TP_UNIDADE** : Tipo Unidade (int)\n",
    "       - [5,7,15,20,21,36,62,77]\n",
    "   * **TP_ESTAB_SEMPRE_ABERTO**: Se o estabelecimento é 24h\n",
    "       - has Nan (414)\n",
    "   * **CO_ATIVIDADE_PRINCIPAL**: Código atividade principal (int)\n",
    "       - unique: 12\n",
    "       - has Nan (609)\n",
    "   * **DS_TIPO_ESTABELECIMENTO** : Descrição tipo de estabelecimento (str)\n",
    "       - unique : 9\n",
    "       - has Nan (609)\n",
    "   * **CO_TIPO_LEITO** : Código Tipo de Leito (int)\n",
    "       - [1,2,3,4,5,6,7]\n",
    "   * **QT_EXIST** : Quantidade de Leitos Existente (int)\n",
    "       - 1 - 300\n",
    "   * **QT_SUS** : Quantidade SUS (int)\n",
    "       - 0 - 239\n",
    "   * **DS_LEITO** : Descrição leito (str)\n",
    "       - 58 tipos\n",
    "   "
   ]
  },
  {
   "cell_type": "code",
   "execution_count": null,
   "metadata": {},
   "outputs": [],
   "source": []
  }
 ],
 "metadata": {
  "kernelspec": {
   "display_name": "Python 3",
   "language": "python",
   "name": "python3"
  },
  "language_info": {
   "codemirror_mode": {
    "name": "ipython",
    "version": 3
   },
   "file_extension": ".py",
   "mimetype": "text/x-python",
   "name": "python",
   "nbconvert_exporter": "python",
   "pygments_lexer": "ipython3",
   "version": "3.6.9"
  }
 },
 "nbformat": 4,
 "nbformat_minor": 4
}
