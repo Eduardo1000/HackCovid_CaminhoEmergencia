{
 "cells": [
  {
   "cell_type": "code",
   "execution_count": 1,
   "metadata": {},
   "outputs": [],
   "source": [
    "import numpy as np\n",
    "import pandas as pd\n",
    "import tensorflow as tf"
   ]
  },
  {
   "cell_type": "code",
   "execution_count": 2,
   "metadata": {},
   "outputs": [],
   "source": [
    "df_occ = pd.read_csv('../../BASE_DE_DADOS_CNES_202003/dataset/ocupacao.csv')"
   ]
  },
  {
   "cell_type": "code",
   "execution_count": 90,
   "metadata": {},
   "outputs": [],
   "source": [
    "from tensorflow.keras import layers"
   ]
  },
  {
   "cell_type": "code",
   "execution_count": 124,
   "metadata": {},
   "outputs": [],
   "source": [
    "model = tf.keras.Sequential()\n",
    "model.add(layers.LSTM(64, input_shape=(None,1),return_sequences=True))\n",
    "model.add(layers.Dense(1))"
   ]
  },
  {
   "cell_type": "code",
   "execution_count": 125,
   "metadata": {},
   "outputs": [],
   "source": [
    "model.build(input_shape=(None,None,1))"
   ]
  },
  {
   "cell_type": "code",
   "execution_count": 126,
   "metadata": {},
   "outputs": [
    {
     "name": "stdout",
     "output_type": "stream",
     "text": [
      "Model: \"sequential_18\"\n",
      "_________________________________________________________________\n",
      "Layer (type)                 Output Shape              Param #   \n",
      "=================================================================\n",
      "lstm_16 (LSTM)               (None, None, 64)          16896     \n",
      "_________________________________________________________________\n",
      "dense_14 (Dense)             (None, None, 1)           65        \n",
      "=================================================================\n",
      "Total params: 16,961\n",
      "Trainable params: 16,961\n",
      "Non-trainable params: 0\n",
      "_________________________________________________________________\n"
     ]
    }
   ],
   "source": [
    "model.summary()"
   ]
  },
  {
   "cell_type": "markdown",
   "metadata": {},
   "source": [
    "## Séries temporais de ocupação"
   ]
  },
  {
   "cell_type": "code",
   "execution_count": 137,
   "metadata": {},
   "outputs": [],
   "source": [
    "df_occ['p_disp'] = df_occ['disponiveis']/df_occ['QT_EXIST']"
   ]
  },
  {
   "cell_type": "code",
   "execution_count": 139,
   "metadata": {},
   "outputs": [],
   "source": [
    "unidades = df_occ['Unidade'].unique()\n",
    "\n",
    "v = []\n",
    "for u in unidades:\n",
    "    v.append(df_occ[df_occ['Unidade']==u]['p_disp'].values)"
   ]
  },
  {
   "cell_type": "code",
   "execution_count": 140,
   "metadata": {},
   "outputs": [],
   "source": [
    "import matplotlib.pyplot as plt"
   ]
  },
  {
   "cell_type": "code",
   "execution_count": 141,
   "metadata": {},
   "outputs": [
    {
     "data": {
      "text/plain": [
       "[<matplotlib.lines.Line2D at 0x7fdea08ee2e8>]"
      ]
     },
     "execution_count": 141,
     "metadata": {},
     "output_type": "execute_result"
    },
    {
     "data": {
      "image/png": "[encoded data removed]",
      "text/plain": [
       "<Figure size 432x288 with 1 Axes>"
      ]
     },
     "metadata": {
      "needs_background": "light"
     },
     "output_type": "display_data"
    }
   ],
   "source": [
    "plt.plot(v[5])"
   ]
  },
  {
   "cell_type": "code",
   "execution_count": 166,
   "metadata": {},
   "outputs": [],
   "source": [
    "data = v[5].reshape((-1,1))\n",
    "X = data[:-7]\n",
    "Y = data[7:]"
   ]
  },
  {
   "cell_type": "code",
   "execution_count": 167,
   "metadata": {},
   "outputs": [],
   "source": [
    "metrics = [\n",
    "            tf.keras.metrics.MSE\n",
    "        ]"
   ]
  },
  {
   "cell_type": "code",
   "execution_count": 168,
   "metadata": {},
   "outputs": [],
   "source": [
    "model.compile(\n",
    "        optimizer=tf.keras.optimizers.Adam(0.001),\n",
    "        loss=tf.keras.losses.MSE,\n",
    "        metrics=metrics\n",
    "    )"
   ]
  },
  {
   "cell_type": "code",
   "execution_count": 169,
   "metadata": {},
   "outputs": [],
   "source": [
    "Xin = np.expand_dims(X,0)\n",
    "Yin = np.expand_dims(Y,0)"
   ]
  },
  {
   "cell_type": "code",
   "execution_count": 170,
   "metadata": {},
   "outputs": [
    {
     "name": "stdout",
     "output_type": "stream",
     "text": [
      "Train on 1 samples\n",
      "Epoch 1/100\n",
      "1/1 [==============================] - 1s 1s/sample - loss: 0.0031 - mean_squared_error: 0.0031\n",
      "Epoch 2/100\n",
      "1/1 [==============================] - 0s 32ms/sample - loss: 0.0105 - mean_squared_error: 0.0105\n",
      "Epoch 3/100\n",
      "1/1 [==============================] - 0s 31ms/sample - loss: 0.0035 - mean_squared_error: 0.0035\n",
      "Epoch 4/100\n",
      "1/1 [==============================] - 0s 37ms/sample - loss: 0.0052 - mean_squared_error: 0.0052\n",
      "Epoch 5/100\n",
      "1/1 [==============================] - 0s 32ms/sample - loss: 0.0072 - mean_squared_error: 0.0072\n",
      "Epoch 6/100\n",
      "1/1 [==============================] - 0s 38ms/sample - loss: 0.0050 - mean_squared_error: 0.0050\n",
      "Epoch 7/100\n",
      "1/1 [==============================] - 0s 39ms/sample - loss: 0.0032 - mean_squared_error: 0.0032\n",
      "Epoch 8/100\n",
      "1/1 [==============================] - 0s 54ms/sample - loss: 0.0034 - mean_squared_error: 0.0034\n",
      "Epoch 9/100\n",
      "1/1 [==============================] - 0s 44ms/sample - loss: 0.0046 - mean_squared_error: 0.0046\n",
      "Epoch 10/100\n",
      "1/1 [==============================] - 0s 50ms/sample - loss: 0.0050 - mean_squared_error: 0.0050\n",
      "Epoch 11/100\n",
      "1/1 [==============================] - 0s 42ms/sample - loss: 0.0043 - mean_squared_error: 0.0043\n",
      "Epoch 12/100\n",
      "1/1 [==============================] - 0s 45ms/sample - loss: 0.0034 - mean_squared_error: 0.0034\n",
      "Epoch 13/100\n",
      "1/1 [==============================] - 0s 50ms/sample - loss: 0.0030 - mean_squared_error: 0.0030\n",
      "Epoch 14/100\n",
      "1/1 [==============================] - 0s 46ms/sample - loss: 0.0034 - mean_squared_error: 0.0034\n",
      "Epoch 15/100\n",
      "1/1 [==============================] - 0s 47ms/sample - loss: 0.0039 - mean_squared_error: 0.0039\n",
      "Epoch 16/100\n",
      "1/1 [==============================] - 0s 47ms/sample - loss: 0.0039 - mean_squared_error: 0.0039\n",
      "Epoch 17/100\n",
      "1/1 [==============================] - 0s 43ms/sample - loss: 0.0035 - mean_squared_error: 0.0035\n",
      "Epoch 18/100\n",
      "1/1 [==============================] - 0s 43ms/sample - loss: 0.0031 - mean_squared_error: 0.0031\n",
      "Epoch 19/100\n",
      "1/1 [==============================] - 0s 45ms/sample - loss: 0.0030 - mean_squared_error: 0.0030\n",
      "Epoch 20/100\n",
      "1/1 [==============================] - 0s 48ms/sample - loss: 0.0032 - mean_squared_error: 0.0032\n",
      "Epoch 21/100\n",
      "1/1 [==============================] - 0s 48ms/sample - loss: 0.0034 - mean_squared_error: 0.0034\n",
      "Epoch 22/100\n",
      "1/1 [==============================] - 0s 49ms/sample - loss: 0.0034 - mean_squared_error: 0.0034\n",
      "Epoch 23/100\n",
      "1/1 [==============================] - 0s 45ms/sample - loss: 0.0032 - mean_squared_error: 0.0032\n",
      "Epoch 24/100\n",
      "1/1 [==============================] - 0s 47ms/sample - loss: 0.0030 - mean_squared_error: 0.0030\n",
      "Epoch 25/100\n",
      "1/1 [==============================] - 0s 42ms/sample - loss: 0.0029 - mean_squared_error: 0.0029\n",
      "Epoch 26/100\n",
      "1/1 [==============================] - 0s 51ms/sample - loss: 0.0030 - mean_squared_error: 0.0030\n",
      "Epoch 27/100\n",
      "1/1 [==============================] - 0s 46ms/sample - loss: 0.0031 - mean_squared_error: 0.0031\n",
      "Epoch 28/100\n",
      "1/1 [==============================] - 0s 48ms/sample - loss: 0.0031 - mean_squared_error: 0.0031\n",
      "Epoch 29/100\n",
      "1/1 [==============================] - 0s 47ms/sample - loss: 0.0030 - mean_squared_error: 0.0030\n",
      "Epoch 30/100\n",
      "1/1 [==============================] - 0s 44ms/sample - loss: 0.0028 - mean_squared_error: 0.0028\n",
      "Epoch 31/100\n",
      "1/1 [==============================] - 0s 47ms/sample - loss: 0.0028 - mean_squared_error: 0.0028\n",
      "Epoch 32/100\n",
      "1/1 [==============================] - 0s 47ms/sample - loss: 0.0029 - mean_squared_error: 0.0029\n",
      "Epoch 33/100\n",
      "1/1 [==============================] - 0s 40ms/sample - loss: 0.0029 - mean_squared_error: 0.0029\n",
      "Epoch 34/100\n",
      "1/1 [==============================] - 0s 57ms/sample - loss: 0.0029 - mean_squared_error: 0.0029\n",
      "Epoch 35/100\n",
      "1/1 [==============================] - 0s 56ms/sample - loss: 0.0028 - mean_squared_error: 0.0028\n",
      "Epoch 36/100\n",
      "1/1 [==============================] - 0s 60ms/sample - loss: 0.0028 - mean_squared_error: 0.0028\n",
      "Epoch 37/100\n",
      "1/1 [==============================] - 0s 47ms/sample - loss: 0.0027 - mean_squared_error: 0.0027\n",
      "Epoch 38/100\n",
      "1/1 [==============================] - 0s 43ms/sample - loss: 0.0028 - mean_squared_error: 0.0028\n",
      "Epoch 39/100\n",
      "1/1 [==============================] - 0s 41ms/sample - loss: 0.0028 - mean_squared_error: 0.0028\n",
      "Epoch 40/100\n",
      "1/1 [==============================] - 0s 44ms/sample - loss: 0.0028 - mean_squared_error: 0.0028\n",
      "Epoch 41/100\n",
      "1/1 [==============================] - 0s 38ms/sample - loss: 0.0027 - mean_squared_error: 0.0027\n",
      "Epoch 42/100\n",
      "1/1 [==============================] - 0s 35ms/sample - loss: 0.0027 - mean_squared_error: 0.0027\n",
      "Epoch 43/100\n",
      "1/1 [==============================] - 0s 43ms/sample - loss: 0.0027 - mean_squared_error: 0.0027\n",
      "Epoch 44/100\n",
      "1/1 [==============================] - 0s 39ms/sample - loss: 0.0027 - mean_squared_error: 0.0027\n",
      "Epoch 45/100\n",
      "1/1 [==============================] - 0s 34ms/sample - loss: 0.0027 - mean_squared_error: 0.0027\n",
      "Epoch 46/100\n",
      "1/1 [==============================] - 0s 40ms/sample - loss: 0.0026 - mean_squared_error: 0.0026\n",
      "Epoch 47/100\n",
      "1/1 [==============================] - 0s 46ms/sample - loss: 0.0026 - mean_squared_error: 0.0026\n",
      "Epoch 48/100\n",
      "1/1 [==============================] - 0s 50ms/sample - loss: 0.0026 - mean_squared_error: 0.0026\n",
      "Epoch 49/100\n",
      "1/1 [==============================] - 0s 41ms/sample - loss: 0.0026 - mean_squared_error: 0.0026\n",
      "Epoch 50/100\n",
      "1/1 [==============================] - 0s 42ms/sample - loss: 0.0026 - mean_squared_error: 0.0026\n",
      "Epoch 51/100\n",
      "1/1 [==============================] - 0s 40ms/sample - loss: 0.0026 - mean_squared_error: 0.0026\n",
      "Epoch 52/100\n",
      "1/1 [==============================] - 0s 43ms/sample - loss: 0.0025 - mean_squared_error: 0.0025\n",
      "Epoch 53/100\n",
      "1/1 [==============================] - 0s 56ms/sample - loss: 0.0025 - mean_squared_error: 0.0025\n",
      "Epoch 54/100\n",
      "1/1 [==============================] - 0s 53ms/sample - loss: 0.0025 - mean_squared_error: 0.0025\n",
      "Epoch 55/100\n",
      "1/1 [==============================] - 0s 56ms/sample - loss: 0.0025 - mean_squared_error: 0.0025\n",
      "Epoch 56/100\n",
      "1/1 [==============================] - 0s 76ms/sample - loss: 0.0025 - mean_squared_error: 0.0025\n",
      "Epoch 57/100\n",
      "1/1 [==============================] - 0s 53ms/sample - loss: 0.0025 - mean_squared_error: 0.0025\n",
      "Epoch 58/100\n",
      "1/1 [==============================] - 0s 47ms/sample - loss: 0.0025 - mean_squared_error: 0.0025\n",
      "Epoch 59/100\n",
      "1/1 [==============================] - 0s 50ms/sample - loss: 0.0025 - mean_squared_error: 0.0025\n",
      "Epoch 60/100\n",
      "1/1 [==============================] - 0s 46ms/sample - loss: 0.0024 - mean_squared_error: 0.0024\n",
      "Epoch 61/100\n",
      "1/1 [==============================] - 0s 52ms/sample - loss: 0.0024 - mean_squared_error: 0.0024\n",
      "Epoch 62/100\n",
      "1/1 [==============================] - 0s 45ms/sample - loss: 0.0024 - mean_squared_error: 0.0024\n",
      "Epoch 63/100\n",
      "1/1 [==============================] - 0s 50ms/sample - loss: 0.0024 - mean_squared_error: 0.0024\n",
      "Epoch 64/100\n",
      "1/1 [==============================] - 0s 47ms/sample - loss: 0.0024 - mean_squared_error: 0.0024\n",
      "Epoch 65/100\n",
      "1/1 [==============================] - 0s 47ms/sample - loss: 0.0024 - mean_squared_error: 0.0024\n",
      "Epoch 66/100\n",
      "1/1 [==============================] - 0s 40ms/sample - loss: 0.0024 - mean_squared_error: 0.0024\n",
      "Epoch 67/100\n",
      "1/1 [==============================] - 0s 43ms/sample - loss: 0.0024 - mean_squared_error: 0.0024\n",
      "Epoch 68/100\n",
      "1/1 [==============================] - 0s 46ms/sample - loss: 0.0023 - mean_squared_error: 0.0023\n",
      "Epoch 69/100\n",
      "1/1 [==============================] - 0s 45ms/sample - loss: 0.0023 - mean_squared_error: 0.0023\n",
      "Epoch 70/100\n",
      "1/1 [==============================] - 0s 47ms/sample - loss: 0.0023 - mean_squared_error: 0.0023\n",
      "Epoch 71/100\n",
      "1/1 [==============================] - 0s 52ms/sample - loss: 0.0023 - mean_squared_error: 0.0023\n",
      "Epoch 72/100\n",
      "1/1 [==============================] - 0s 57ms/sample - loss: 0.0023 - mean_squared_error: 0.0023\n",
      "Epoch 73/100\n",
      "1/1 [==============================] - 0s 56ms/sample - loss: 0.0023 - mean_squared_error: 0.0023\n",
      "Epoch 74/100\n",
      "1/1 [==============================] - 0s 56ms/sample - loss: 0.0023 - mean_squared_error: 0.0023\n"
     ]
    },
    {
     "name": "stdout",
     "output_type": "stream",
     "text": [
      "Epoch 75/100\n",
      "1/1 [==============================] - 0s 56ms/sample - loss: 0.0023 - mean_squared_error: 0.0023\n",
      "Epoch 76/100\n",
      "1/1 [==============================] - 0s 39ms/sample - loss: 0.0022 - mean_squared_error: 0.0022\n",
      "Epoch 77/100\n",
      "1/1 [==============================] - 0s 40ms/sample - loss: 0.0022 - mean_squared_error: 0.0022\n",
      "Epoch 78/100\n",
      "1/1 [==============================] - 0s 40ms/sample - loss: 0.0022 - mean_squared_error: 0.0022\n",
      "Epoch 79/100\n",
      "1/1 [==============================] - 0s 43ms/sample - loss: 0.0022 - mean_squared_error: 0.0022\n",
      "Epoch 80/100\n",
      "1/1 [==============================] - 0s 41ms/sample - loss: 0.0022 - mean_squared_error: 0.0022\n",
      "Epoch 81/100\n",
      "1/1 [==============================] - 0s 60ms/sample - loss: 0.0022 - mean_squared_error: 0.0022\n",
      "Epoch 82/100\n",
      "1/1 [==============================] - 0s 57ms/sample - loss: 0.0022 - mean_squared_error: 0.0022\n",
      "Epoch 83/100\n",
      "1/1 [==============================] - 0s 45ms/sample - loss: 0.0022 - mean_squared_error: 0.0022\n",
      "Epoch 84/100\n",
      "1/1 [==============================] - 0s 47ms/sample - loss: 0.0021 - mean_squared_error: 0.0021\n",
      "Epoch 85/100\n",
      "1/1 [==============================] - 0s 37ms/sample - loss: 0.0021 - mean_squared_error: 0.0021\n",
      "Epoch 86/100\n",
      "1/1 [==============================] - 0s 37ms/sample - loss: 0.0021 - mean_squared_error: 0.0021\n",
      "Epoch 87/100\n",
      "1/1 [==============================] - 0s 36ms/sample - loss: 0.0021 - mean_squared_error: 0.0021\n",
      "Epoch 88/100\n",
      "1/1 [==============================] - 0s 44ms/sample - loss: 0.0021 - mean_squared_error: 0.0021\n",
      "Epoch 89/100\n",
      "1/1 [==============================] - 0s 43ms/sample - loss: 0.0021 - mean_squared_error: 0.0021\n",
      "Epoch 90/100\n",
      "1/1 [==============================] - 0s 43ms/sample - loss: 0.0021 - mean_squared_error: 0.0021\n",
      "Epoch 91/100\n",
      "1/1 [==============================] - 0s 54ms/sample - loss: 0.0021 - mean_squared_error: 0.0021\n",
      "Epoch 92/100\n",
      "1/1 [==============================] - 0s 59ms/sample - loss: 0.0021 - mean_squared_error: 0.0021\n",
      "Epoch 93/100\n",
      "1/1 [==============================] - 0s 44ms/sample - loss: 0.0020 - mean_squared_error: 0.0020\n",
      "Epoch 94/100\n",
      "1/1 [==============================] - 0s 41ms/sample - loss: 0.0020 - mean_squared_error: 0.0020\n",
      "Epoch 95/100\n",
      "1/1 [==============================] - 0s 39ms/sample - loss: 0.0020 - mean_squared_error: 0.0020\n",
      "Epoch 96/100\n",
      "1/1 [==============================] - 0s 43ms/sample - loss: 0.0020 - mean_squared_error: 0.0020\n",
      "Epoch 97/100\n",
      "1/1 [==============================] - 0s 44ms/sample - loss: 0.0020 - mean_squared_error: 0.0020\n",
      "Epoch 98/100\n",
      "1/1 [==============================] - 0s 61ms/sample - loss: 0.0020 - mean_squared_error: 0.0020\n",
      "Epoch 99/100\n",
      "1/1 [==============================] - 0s 56ms/sample - loss: 0.0020 - mean_squared_error: 0.0020\n",
      "Epoch 100/100\n",
      "1/1 [==============================] - 0s 45ms/sample - loss: 0.0020 - mean_squared_error: 0.0020\n"
     ]
    },
    {
     "data": {
      "text/plain": [
       "<tensorflow.python.keras.callbacks.History at 0x7fde7668c6a0>"
      ]
     },
     "execution_count": 170,
     "metadata": {},
     "output_type": "execute_result"
    }
   ],
   "source": [
    "model.fit(\n",
    "    Xin, Yin,epochs=100)"
   ]
  },
  {
   "cell_type": "code",
   "execution_count": 171,
   "metadata": {},
   "outputs": [],
   "source": [
    "Xout = model.predict(Xin)"
   ]
  },
  {
   "cell_type": "code",
   "execution_count": 172,
   "metadata": {},
   "outputs": [
    {
     "data": {
      "text/plain": [
       "[<matplotlib.lines.Line2D at 0x7fde740a6668>]"
      ]
     },
     "execution_count": 172,
     "metadata": {},
     "output_type": "execute_result"
    },
    {
     "data": {
      "image/png": "[encoded data removed]",
      "text/plain": [
       "<Figure size 432x288 with 1 Axes>"
      ]
     },
     "metadata": {
      "needs_background": "light"
     },
     "output_type": "display_data"
    }
   ],
   "source": [
    "plt.plot(Xout[0,:,0])\n",
    "plt.plot(Xin[0,:,0])"
   ]
  },
  {
   "cell_type": "code",
   "execution_count": null,
   "metadata": {},
   "outputs": [],
   "source": []
  }
 ],
 "metadata": {
  "kernelspec": {
   "display_name": "Python 3",
   "language": "python",
   "name": "python3"
  },
  "language_info": {
   "codemirror_mode": {
    "name": "ipython",
    "version": 3
   },
   "file_extension": ".py",
   "mimetype": "text/x-python",
   "name": "python",
   "nbconvert_exporter": "python",
   "pygments_lexer": "ipython3",
   "version": "3.6.9"
  }
 },
 "nbformat": 4,
 "nbformat_minor": 4
}
